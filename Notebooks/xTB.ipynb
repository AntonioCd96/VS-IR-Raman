{
 "cells": [
  {
   "cell_type": "code",
   "execution_count": 13,
   "id": "fe1f15fc-04e7-4953-a6a0-bda241c87c70",
   "metadata": {},
   "outputs": [
    {
     "name": "stdout",
     "output_type": "stream",
     "text": [
      "Standard Output:\n",
      "\n",
      "\n",
      "Standard Error:\n",
      "El sistema no puede encontrar la ruta especificada.\n",
      "\n"
     ]
    }
   ],
   "source": [
    "import subprocess\n",
    "\n",
    "command = \"/home/cd96/psi4conda/bin/xtb  CO2-v1.xyz --hess --uhf 1\"\n",
    "result = subprocess.run(command, shell=True, stdout=subprocess.PIPE, stderr=subprocess.PIPE, text=True)\n",
    "\n",
    "print(\"Standard Output:\")\n",
    "print(result.stdout)\n",
    "\n",
    "print(\"\\nStandard Error:\")\n",
    "print(result.stderr)"
   ]
  },
  {
   "cell_type": "code",
   "execution_count": 14,
   "id": "d864a604-2dc7-4a0d-95fc-0cd215915304",
   "metadata": {},
   "outputs": [
    {
     "name": "stderr",
     "output_type": "stream",
     "text": [
      "\"xtb\" no se reconoce como un comando interno o externo,\n",
      "programa o archivo por lotes ejecutable.\n"
     ]
    }
   ],
   "source": [
    "!xtb CO2-v1.xyz --hess --uhf 1 --gfn 0"
   ]
  },
  {
   "cell_type": "code",
   "execution_count": 7,
   "id": "0d0dbb68-859d-44c8-8ae9-e23b8a17a1a9",
   "metadata": {},
   "outputs": [
    {
     "name": "stdout",
     "output_type": "stream",
     "text": [
      "Requirement already satisfied: meson in c:\\users\\roste\\anaconda3\\lib\\site-packages (1.2.0)\n",
      "Note: you may need to restart the kernel to use updated packages.\n"
     ]
    },
    {
     "name": "stderr",
     "output_type": "stream",
     "text": [
      "WARNING: Ignoring invalid distribution -atplotlib (c:\\users\\roste\\anaconda3\\lib\\site-packages)\n",
      "WARNING: Ignoring invalid distribution -atplotlib (c:\\users\\roste\\anaconda3\\lib\\site-packages)\n"
     ]
    }
   ],
   "source": [
    "pip install meson"
   ]
  },
  {
   "cell_type": "code",
   "execution_count": 8,
   "id": "07e17793-0115-4ddb-b3dd-b00d8fb74ecf",
   "metadata": {},
   "outputs": [
    {
     "name": "stderr",
     "output_type": "stream",
     "text": [
      "\"xtb\" no se reconoce como un comando interno o externo,\n",
      "programa o archivo por lotes ejecutable.\n"
     ]
    }
   ],
   "source": [
    "!xtb min.xyz --hess --uhf 1\n"
   ]
  },
  {
   "cell_type": "code",
   "execution_count": null,
   "id": "2b3d27a9-6f90-4d5d-9a94-8d3aa5a00c68",
   "metadata": {},
   "outputs": [],
   "source": []
  }
 ],
 "metadata": {
  "kernelspec": {
   "display_name": "Python 3 (ipykernel)",
   "language": "python",
   "name": "python3"
  },
  "language_info": {
   "codemirror_mode": {
    "name": "ipython",
    "version": 3
   },
   "file_extension": ".py",
   "mimetype": "text/x-python",
   "name": "python",
   "nbconvert_exporter": "python",
   "pygments_lexer": "ipython3",
   "version": "3.8.17"
  }
 },
 "nbformat": 4,
 "nbformat_minor": 5
}
