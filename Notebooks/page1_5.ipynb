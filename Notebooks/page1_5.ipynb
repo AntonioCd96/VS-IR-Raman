{
 "cells": [
  {
   "attachments": {},
   "cell_type": "markdown",
   "id": "d14b173b",
   "metadata": {},
   "source": [
    "# I - Vibrational spectroscopy \n",
    "\n",
    "Vibrational spectroscopy is an energy sensitive method. It is based on periodic <span style=\"color: red;\"> **changes of dipole moments**  </span>  (<span style=\"color: red;\">**IR**</span>: infrared spectroscopy ) or  <span style=\"color: blue;\"> **changes of polarizability**  </span>  (<span style=\"color: blue;\">**Raman**</span>: Raman spectroscopy ) caused by molecular vibrations of molecules or groups of atoms and the combined discrete energy transitions and changes of frequency during absorption ( <span style=\"color: red;\">**IR**</span>) or scattering (<span style=\"color: blue;\">**Raman**</span>) of electromagnetic radiation of wavelengths from 1 to 300 $\\mu m$. \n",
    "\n",
    "These techniques are widely used in chemistry for the three states of matter: solid, liquid and gaseous state. The main uses are the following ones:\n",
    "\n",
    "\n",
    "* **Qualitative analysis:**\n",
    "1. The presence/identification of known compounds (Chemist usually say that IR spectra is the finger print of a molecule)\n",
    "2. The functional groups of an unknown compound, \n",
    "3. and thus a likely structure of a new compound\n",
    "4. Properties of the bonds (bond strength, force constants)\n",
    "\n",
    "* **Quantitative analysis:** \n",
    "5. Changes in the concentration of a species during reaction\n",
    "\n",
    "\n",
    "In this chapter, we are going to revisit and illustrate some basic concepts to understand the physical phenomena behind the main techniques as well as  brief history facts.\n"
   ]
  },
  {
   "attachments": {},
   "cell_type": "markdown",
   "id": "72367cd9",
   "metadata": {},
   "source": [
    "# Classical approach to model harmonic  motion\n",
    "\n",
    "We can start a first approach from a classical point of view. Imagine that we have two atoms (masses: $m_1$ and $m_2$, whose values, for the moment, are equal: $m_1$=$m_2$ ) joined by a spring of spring constant $k$, we can actually use Hook Law to derive the force and the field force that each atom experiences:\n",
    "\n",
    "$$\n",
    "F= m \\frac{\\partial^2 R(t) }{\\partial t^2 }= \\nabla_R V(R)\n",
    "$$\n",
    "\n",
    "When we solve integrate to obtain the force field, we obtain the so called harmonic potential. In this way, the harmonic potential $V(R)$ can be expanded in Taylor series around the equilibrium position $R_0$ (also called relaxation position):\n",
    "\n",
    "$$\n",
    "V(R) = V_0 + \\frac{\\partial V }{\\partial R }|_{R=R_0}(R-R_0)+\\frac{1}{2}\\frac{\\partial^2 V }{\\partial R^2 }|_{R=R_0}(R-R_0)^2+...\n",
    "$$\n",
    "\n",
    "and we found that the third term is the spring constant $k$.\n",
    "\n",
    "This set of equations allow us to understand that a molecule is not a rigid body! but is vibrating around a equilibrium position. What is more, the spring is the virtual bond that keeps interacting the two atoms at a defined frequency. This example can easily describe a $H_2$ molecule, since this one is composed of two equivalent atoms. We can challenge this theory to understand the vibration nature of other molecules, for instance:\n",
    "\n",
    "* We can learn about the strength of the bond (which parameter we have to change to simulate a simple bond, a double or a triple bond?)\n",
    "* We can guess what happen if now the mass of the masses is too much different, can we talk about the vibrations in heteromolecules (such as HCl) or even more amazing:\n",
    "* Can we know how having an isotopic atom changes the vibrational motion? \n",
    "\n",
    "Let's explore some of this questions using a generic solution for the harmonic motion:\n",
    "\n",
    "$$\n",
    "x   = x_0+C_1sin(\\sqrt{\\frac{k}{\\mu}}t)+C_2cos(\\sqrt{\\frac{k}{\\mu}}t)\n",
    "$$\n",
    "\n",
    "From this equation we can easily identify two important terms: the vibrational frequency ($\\nu$) and the reduced mass ($\\mu$):\n",
    "\n",
    "$$\n",
    "\\nu = \\frac{1}{2 \\pi }\\sqrt{\\frac{k}{m}}  ; \\        \\  \\mu = \\frac{m_1 m_2}{m_1+m_2}\n",
    "$$\n",
    "\n",
    "Another important parameter is the amplitude of the oscillation $A(\\omega_f)$. \n",
    "\n",
    "$$\n",
    "A=\\frac{F_0/\\mu}{\\sqrt{(\\omega_0^2-\\omega_f^2)^2+4\\omega_f^2γ^2}}\n",
    "$$\n",
    "\n",
    "$$\n",
    "\\omega = \\sqrt{\\frac{k}{m}}\n",
    "$$\n",
    "\n",
    "This parameter is useful to see the impact of different variables in the system. These variables can be the following ones:\n",
    "* How the change of the media in which the compound is can affect the oscillation: this can be simulated with $\\gamma$, which in the harmonic motion correspond to a damped harmonic oscillator.\n",
    "* We can also see how the natural frequency of oscillation $\\omega_0$ get displaced by the change in mass or string constant.\n",
    "* Finally, if we plot $A(\\omega_f)$, we can see how the maximum get modified and also $\\omega_0$, since a definition of this last one is where the maximum amplitude of oscillation takes place."
   ]
  },
  {
   "attachments": {},
   "cell_type": "markdown",
   "id": "cf0e250c",
   "metadata": {},
   "source": [
    "# Interactive program for isotopic and multiple bond molecules"
   ]
  },
  {
   "cell_type": "code",
   "execution_count": 1,
   "id": "1eb483a7",
   "metadata": {
    "tags": [
     "hide-input"
    ]
   },
   "outputs": [],
   "source": [
    "\n",
    "from pylab import *\n",
    "from ipywidgets import *\n",
    "import matplotlib.pyplot as plt\n",
    "import imageio\n",
    "plt.rcParams.update({'font.size': 18})"
   ]
  },
  {
   "cell_type": "code",
   "execution_count": 4,
   "id": "13e5cd86",
   "metadata": {
    "scrolled": false,
    "tags": [
     "hide-input"
    ]
   },
   "outputs": [
    {
     "data": {
      "application/vnd.jupyter.widget-view+json": {
       "model_id": "1d7559fe997b48a99a7cc45e2e9ba850",
       "version_major": 2,
       "version_minor": 0
      },
      "text/plain": [
       "interactive(children=(IntSlider(value=41, description='k', min=1, step=5), IntSlider(value=10, description='m1…"
      ]
     },
     "metadata": {},
     "output_type": "display_data"
    }
   ],
   "source": [
    "@interact( k=(1,100,5), m1=(1,10,1), m2=(1,10,1))\n",
    "\n",
    "def Vibration( k=41, m1=10, m2=10):\n",
    "    \n",
    "    x_0 = 0\n",
    "    m   = m1*m2/(m1+m2)\n",
    "    t = linspace(0,10,501)\n",
    "    \n",
    "    v_0=array([[0, 0],  [0, 0]]) # velocities between -1 y 1\n",
    "    p_0=array([[0,0],  [1, 0]]) # positions\n",
    "    \n",
    "    fig,ax = plt.subplots(ncols=3,nrows=1,figsize=(18,5), \n",
    "                       gridspec_kw = {'wspace':0.4, 'hspace':0})\n",
    "    \n",
    "    x   = x_0+sin(sqrt(k/m)*t)+cos(sqrt(k/m)*t)\n",
    "    ax[0].set_ylim(-3,3)\n",
    "    ax[1].set_ylim(-3,3)\n",
    "    ax[1].set_xlim(-1,2)\n",
    "    ax[0].set_xlabel(\"time\") \n",
    "    ax[0].set_ylabel(\"Position in X\") \n",
    "\n",
    "    ax[2].set_ylim(0,5)\n",
    "    ax[2].set_xlim(0,20)\n",
    "    ax[2].set_xlabel(\"Frequency($\\omega_f$)\") \n",
    "    ax[2].set_ylabel(\"Amplitude\") \n",
    "    ax[0].plot(t,x)\n",
    "    \n",
    "    x1_m=p_0[:,0][0]\n",
    "    y1_m=p_0[:,1][0] \n",
    "    ax[1].scatter(x1_m,y1_m,s=m1*100, c=\"blue\",edgecolor=\"None\")\n",
    "    \n",
    "    x2_m=p_0[:,0][1]\n",
    "    y2_m=p_0[:,1][1] \n",
    "    ax[1].scatter(x2_m,y2_m,s=m2*100,c=\"orange\",edgecolor=\"None\")\n",
    "    \n",
    "    \n",
    "    w_0= sqrt(k/m)\n",
    "    γ=1\n",
    "    F_0= 10\n",
    "    \n",
    "    w_f=linspace(-5,20,501)\n",
    "    A=(F_0/m)/(sqrt((-w_f**2+w_0**2)**2+4*w_f**2*γ**2))\n",
    "    \n",
    "    ax[2].axvline(w_0, label= \"$\\omega_0$\",c=\"red\")\n",
    "    ax[2].legend()\n",
    "    ax[2].plot(w_f,A)\n",
    "    "
   ]
  },
  {
   "attachments": {},
   "cell_type": "markdown",
   "id": "5c31a306",
   "metadata": {},
   "source": [
    "```{admonition} What happens with the frequency of oscillation when you increase k? How can you relate this with the bond order in a molecule?\n",
    ":class: dropdown\n",
    "The frequency of oscillation increases, this can be translated into chemical language as if the bond order increases too! This means that bond gets stronger or similarly we add a bond to the molecule\n",
    "```\n",
    "\n",
    "```{admonition} What happens with the frequency of oscillation when you increase one of the masses? How can you relate this with the bond order in a molecule?\n",
    ":class: dropdown\n",
    "The frequency of oscillation decreases, this can be translated into chemical language as if the bond order increases too! This means that bond gets stronger or similarly we add a bond to the molecule\n",
    "```"
   ]
  },
  {
   "attachments": {},
   "cell_type": "markdown",
   "id": "f24e9b69",
   "metadata": {},
   "source": [
    "![SegmentLocal](./images/example_2.gif \"Variations isotope and multibonding\")"
   ]
  },
  {
   "attachments": {},
   "cell_type": "markdown",
   "id": "3b571750",
   "metadata": {},
   "source": [
    "\n",
    "```{admonition} Which facts can you conclude with this animation?\n",
    ":class: dropdown\n",
    "\n",
    "With this animation we can confirm several guess: \n",
    "\n",
    "* Increasing $k$ increase the bond order, so that molecules with double or triple bonds vibrate at higher frequencies and the oscillation amplitude gets smaller.\n",
    "* Increasing the mass of one of the atoms, either for isotopic effect or just a change in an atom to model a heteromolecule, decreases the frequency of oscillation and the oscillation is also greater.\n",
    "```\n"
   ]
  },
  {
   "attachments": {},
   "cell_type": "markdown",
   "id": "1eebc573",
   "metadata": {},
   "source": [
    "Let us consider a chain of identical atoms of mass $m$ where the equilibrium spacing between atoms is $a$. Let us define the position of the nth atom to be $xn$ and the equilibrium position of the nth atom to be $x^{eq}_n = na$. Once we allow motion of the atoms, we will have $x_n$ deviating from its equilibrium position, so we define the small variable $δx_n= x_n − x^{eq}_n$  \n",
    "\n",
    "Note that in our simple model we are allowing motion of the masses only in one dimension (i.e., we are allowing longitudinal motion of the chain, not transverse motion)\n",
    "\n",
    "For any coupled system system, a normal mode is defined to be a collective oscillation where all particles move at the same frequency. We now attempt a solution\n",
    "to Newton’s equations by using an ansatz that describes the normal modes as waves\n",
    "\n",
    "\\begin{align}\n",
    "x_n = x_n^{\\rm eq} + A e^{i\\omega t-ikna}\n",
    "\\end{align}\n",
    "\n",
    "where $x_n^{\\rm eq}=na$.\n",
    "\n",
    "\n",
    "\\begin{align}\n",
    "\\delta x_n = A e^{i\\omega t-ikna}\n",
    "\\end{align}\n",
    "\n",
    "Solving the equation we obtain: \n",
    " \n",
    "\n",
    "\\begin{align}\n",
    "\\omega(k) = \\sqrt{\\frac{4\\kappa}{m}} \\bigg| \\sin\\bigg( \\frac{ka}{2} \\bigg) \\bigg|\n",
    "\\end{align}\n",
    "\n",
    "As we have seen, this exact solutions can help us to simulate the movement of atoms, in this case we will see how atoms in a periodic lattice move in a defined normal mode."
   ]
  },
  {
   "attachments": {},
   "cell_type": "markdown",
   "id": "5817f2f6",
   "metadata": {},
   "source": [
    "# Quality Factor"
   ]
  },
  {
   "attachments": {},
   "cell_type": "markdown",
   "id": "1be5cec8",
   "metadata": {},
   "source": [
    "The quality factor (**Q**) is related to the number of cycles it takes for the motion to die down. In harmonic motion of molecules, it describes the dampness in the oscillating system, this means that we can guess the aggregation state of the compound, and moreover,  the solvent in which the molecules are solvated. \n",
    "\n",
    "The quality factor $Q$ can be calculated as:\n",
    "\n",
    "$$\n",
    "Q= \\frac{\\omega _0}{\\gamma}\n",
    "$$\n",
    "* large Q means \"will oscillate for many cycles before stopping \"\n",
    "* small Q means \"will oscillate for only a few cycles before stopping \"\n",
    "\n",
    "`````{admonition} Note\n",
    ":class: tip\n",
    "The quality factor has no units, it is just a number\n",
    "\n",
    "`````\n",
    "\n",
    "```{admonition} But, how do we know the aggregation state or the type of solvent in which our sample is? \n",
    ":class: dropdown\n",
    "\n",
    "The answer is the molecular interactions. For instance, if we have water molecules, they will form spontaneously hydrogen bonds, this process will work as a damping force. It is well known that this effect is in water is predominant in liquid state. The next question is: what is the effect of a damping force on the amplitude and more interesting, on the bands of the IR spectrum? Play a little bit with the following interactive code and try to guess the answer for this question.\n",
    "```\n",
    "\n"
   ]
  },
  {
   "cell_type": "code",
   "execution_count": 5,
   "id": "7be00881",
   "metadata": {
    "tags": [
     "hide-input"
    ]
   },
   "outputs": [],
   "source": [
    "%matplotlib inline\n",
    "from pylab import *\n",
    "from ipywidgets import *\n",
    "import matplotlib.pyplot as plt\n",
    "plt.rcParams.update({'font.size': 18})\n"
   ]
  },
  {
   "cell_type": "code",
   "execution_count": 10,
   "id": "7a33032e",
   "metadata": {
    "scrolled": false,
    "tags": [
     "hide-input"
    ]
   },
   "outputs": [
    {
     "data": {
      "application/vnd.jupyter.widget-view+json": {
       "model_id": "859c3135535d4c1b9e2a2690b0a2c4ca",
       "version_major": 2,
       "version_minor": 0
      },
      "text/plain": [
       "interactive(children=(IntSlider(value=5, description='μ', max=10, min=1), IntSlider(value=1, description='γ', …"
      ]
     },
     "metadata": {},
     "output_type": "display_data"
    }
   ],
   "source": [
    "\n",
    "@interact(  μ=(1,10,1), γ=(1,10,1), w_0=(1,20,1))\n",
    "\n",
    "def QualityF( μ=5, γ=1, w_0=10):\n",
    "    F_0=20\n",
    "   \n",
    "    w_f= linspace(-5,20,500)\n",
    "    \n",
    "    fig,ax = plt.subplots(ncols=1,nrows=1,figsize=(8,5))\n",
    "    \n",
    "    A=(F_0/μ)/(sqrt((w_f**2-w_0**2)**2+4*w_f**2*γ**2))\n",
    "    \n",
    "#     ax.set_ylim(-3,3)\n",
    "    ax.set_xlim(0,20)\n",
    "    ax.set_ylim(0,2.1)\n",
    "    ax.set_ylabel(\"Amplitude\")\n",
    "    ax.set_xlabel(\"Frequency [ω]\")\n",
    "    ax.plot(w_f,A)\n",
    "    \n",
    "    print(r\"μ is the reduced mass\")\n",
    "    print(r\"γ is the dissipation factor\")\n",
    "    print(r\"w_0 is the natural frequency of oscillation\")\n",
    "\n"
   ]
  },
  {
   "cell_type": "code",
   "execution_count": null,
   "id": "812e1a80",
   "metadata": {},
   "outputs": [],
   "source": []
  }
 ],
 "metadata": {
  "celltoolbar": "Tags",
  "kernelspec": {
   "display_name": "Python 3",
   "language": "python",
   "name": "python3"
  },
  "language_info": {
   "codemirror_mode": {
    "name": "ipython",
    "version": 3
   },
   "file_extension": ".py",
   "mimetype": "text/x-python",
   "name": "python",
   "nbconvert_exporter": "python",
   "pygments_lexer": "ipython3",
   "version": "3.8.8"
  }
 },
 "nbformat": 4,
 "nbformat_minor": 5
}
