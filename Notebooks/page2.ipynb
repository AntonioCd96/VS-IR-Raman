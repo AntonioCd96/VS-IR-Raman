{
 "cells": [
  {
   "cell_type": "markdown",
   "id": "69bac28e",
   "metadata": {},
   "source": [
    "# A - Calculate your own IR and Raman Spectra\n",
    "\n",
    "The following code is aimed to help you to obtain theoretical spectra of IR and Raman using the web service: xTB [https://ir.cheminfo.org/api/v1/docs#/default/get_ir_spectrum_ir_get] [1]. As you will see, it uses three different theoretical methods GFN2xTB, GFN1xTB and GFNFF.The way you can use the following code is by executing th following cells. BEfore starting make sure you have the SMILES code of the molecule you are going to simulate. \n",
    "\n",
    "If you do not have the smiles code, you can draw your molecule in the following page to obtain it:[https://www.cheminfo.org/flavor/malaria/Utilities/SMILES_generator___checker/index.html]\n",
    "\n",
    "---\n",
    "\n",
    "<sup> Source: J. Chem. Educ. 2022, 99, 2, 561–569 </sup>\n",
    "More info abouth this project: cesar.donezmiranda@epfl.ch"
   ]
  },
  {
   "cell_type": "code",
   "execution_count": null,
   "id": "09087fcb",
   "metadata": {},
   "outputs": [],
   "source": [
    "!pip install rdkit\n",
    "!pip install kallisto\n",
    "!pip install py3Dmol\n",
    "!pip install --upgrade \"jax[cpu]\"\n"
   ]
  },
  {
   "cell_type": "code",
   "execution_count": 1,
   "id": "3efcedbd",
   "metadata": {},
   "outputs": [],
   "source": [
    "from axolotl_1 import IR_xTB, Animator_data, IR_axo\n",
    "from pylab import *\n",
    "import pandas as pd"
   ]
  },
  {
   "cell_type": "markdown",
   "id": "5613403f",
   "metadata": {},
   "source": [
    "# Obtain your own theoretical expectra\n",
    "\n",
    "By executing the following code you will be able to obtain your own spectra, you only need:\n",
    "\n",
    "* The smiles code of the molecule of your interest\n",
    "* The method you want to use to calculate the theoretical spectra\n",
    "* How much you want to broaden the peaks of the theoretical bands"
   ]
  },
  {
   "cell_type": "code",
   "execution_count": null,
   "id": "8e221485",
   "metadata": {},
   "outputs": [],
   "source": [
    "plt.rcParams.update({'font.size': 14})\n",
    "smiles_code        = input(\"please introduce the smiles code: \")\n",
    "method             = input(\"please introduce the method (GFN2xTB, GFN1xTB, GFNFF): \")\n",
    "sigma              = int(input(\"please introduce how much you want to broad the theoretical bands (a number between σ=[20,100]): \"))\n",
    "sigma_raman        = int(input(\"please introduce how much you want to broad the Raman theoretical bands (a number between σ=[20,100]): \"))\n",
    "\n",
    "wavenumbers        = linspace(0,4000,10001)\n",
    "Compound_wn,Compound_int   = wavenumbers, IR_xTB(smiles_code,method,sigma, sigma_raman) \n",
    "μ_all= Compound_int[4]\n",
    "all_pol_mode = Compound_int[5]\n",
    "Animator_data(smiles_code,method)\n",
    "filename           = 'readme.txt'\n",
    "\n",
    "data = {'wavenumber [1/cm]': Compound_wn,\n",
    "       'intensity IR':0.5*array(Compound_int[1])+0.5,\n",
    "       'intensity Raman':0.5*array(Compound_int[2])}\n",
    "df = pd.DataFrame.from_dict(data)\n",
    "excel= df.to_excel('Info_Spectroscopy_IR_Raman_{0}_{1}.xlsx'.format(smiles_code, method))\n",
    "\n",
    "IR_axo( filename,Compound_wn, Compound_int,smiles_code, method, sigma, sigma_raman,μ_all, all_pol_mode )\n",
    "plt.savefig(\"IR_Raman_TheoreticalSpectra_{0}_{1}.png\".format(method, smiles_code))\n"
   ]
  },
  {
   "cell_type": "markdown",
   "id": "b3ce92ea",
   "metadata": {},
   "source": [
    "# Cellphone environment\n",
    "\n",
    "NOTE: The clauses after the symbol # are instructions. See the last cell to execute and get the spectra of your molecule \n",
    "\n",
    "Populate the following variables as follows:\n",
    "```python \n",
    "\n",
    "\n",
    "smiles             = \"CCCO\" # STRING\n",
    "method             = \"GFN2xTB\"  # STRING #\"please introduce the method (GFN2xTB, GFN1xTB, GFNFF)\n",
    "sigma              = 20 # INTEGER  #\"please introduce how much you want to broad the IR theoretical bands (a number between σ=[20,100])\n",
    "sigma_raman        =  20 # INTEGER  #\"please introduce how much you want to broad the Raman theoretical bands (a number between σ=[20,100])\n",
    "```\n"
   ]
  },
  {
   "cell_type": "code",
   "execution_count": 2,
   "id": "f4ae8752",
   "metadata": {},
   "outputs": [
    {
     "name": "stderr",
     "output_type": "stream",
     "text": [
      "WARNING:absl:No GPU/TPU found, falling back to CPU. (Set TF_CPP_MIN_LOG_LEVEL=0 and rerun for more info.)\n"
     ]
    },
    {
     "name": "stdout",
     "output_type": "stream",
     "text": [
      "<Response [200]>\n",
      "There are 4 normal modes\n",
      "['O', 'C', 'O']\n",
      "Tha charges are [-0.18646441  0.37292883 -0.18646441] with a mass of [15.999 12.011 15.999]\n"
     ]
    },
    {
     "data": {
      "application/vnd.jupyter.widget-view+json": {
       "model_id": "d14732651a8747d78d6e0ff3e702205d",
       "version_major": 2,
       "version_minor": 0
      },
      "text/plain": [
       "interactive(children=(Dropdown(description='Normal mode:', options=((538.85, 0), (600.02, 1), (1425.06, 2), (2…"
      ]
     },
     "metadata": {},
     "output_type": "display_data"
    }
   ],
   "source": [
    "smiles_code        = \"O=C=O\"\n",
    "method             = \"GFN2xTB\"\n",
    "sigma              = 20\n",
    "sigma_raman        = 50\n",
    "\n",
    "### DO NOT MOVE\n",
    "wavenumbers        = linspace(0,4000,10001)\n",
    "Compound_wn,Compound_int   = wavenumbers, IR_xTB(smiles_code,method,sigma, sigma_raman) \n",
    "μ_all= Compound_int[4]\n",
    "all_pol_mode = Compound_int[5]\n",
    "Animator_data(smiles_code,method)\n",
    "filename           = 'readme.txt'\n",
    "\n",
    "data = {'wavenumber [1/cm]': Compound_wn,\n",
    "       'intensity IR':0.5*array(Compound_int[1])+0.5,\n",
    "       'intensity Raman':0.5*array(Compound_int[2])}\n",
    "df = pd.DataFrame.from_dict(data)\n",
    "excel= df.to_excel('Info_Spectroscopy_IR_Raman_{0}_{1}.xlsx'.format(smiles_code, method))\n",
    "\n",
    "IR_axo( filename,Compound_wn, Compound_int,smiles_code, method, sigma, sigma_raman,μ_all, all_pol_mode )"
   ]
  },
  {
   "cell_type": "code",
   "execution_count": null,
   "id": "93942615",
   "metadata": {},
   "outputs": [],
   "source": []
  }
 ],
 "metadata": {
  "kernelspec": {
   "display_name": "Python 3 (ipykernel)",
   "language": "python",
   "name": "python3"
  },
  "language_info": {
   "codemirror_mode": {
    "name": "ipython",
    "version": 3
   },
   "file_extension": ".py",
   "mimetype": "text/x-python",
   "name": "python",
   "nbconvert_exporter": "python",
   "pygments_lexer": "ipython3",
   "version": "3.8.17"
  }
 },
 "nbformat": 4,
 "nbformat_minor": 5
}
