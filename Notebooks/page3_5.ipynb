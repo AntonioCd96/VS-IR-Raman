{
 "cells": [
  {
   "cell_type": "markdown",
   "id": "73ebb8da",
   "metadata": {},
   "source": [
    "# A - Harmonic Oscillator - Quantum Mechanics Approach - Interactive"
   ]
  },
  {
   "cell_type": "markdown",
   "id": "1eafa5c7",
   "metadata": {},
   "source": [
    "While giving a good overview of the molecular vibrations, the classical model \n",
    "doesn’t describes the quantized observed \n",
    "vibrations. As a first approximation, a \n",
    "quadratic harmonic potential can \n",
    "approximate the potential of a diatomic \n",
    "oscillator. The main results are:\n",
    "    \n",
    "* The vibration levels are quantized ($n$)\n",
    "* Can only give a probability for finding the  nuclei in a certain arrangement\n",
    "* Nuclear tunnelling\n",
    "* There is a so-called zero-point energy"
   ]
  },
  {
   "cell_type": "code",
   "execution_count": 1,
   "id": "8cb7bfa8",
   "metadata": {
    "scrolled": true,
    "tags": [
     "hide-input"
    ]
   },
   "outputs": [
    {
     "name": "stderr",
     "output_type": "stream",
     "text": [
      "C:\\Users\\roste\\AppData\\Roaming\\Python\\Python39\\site-packages\\matplotlib\\projections\\__init__.py:63: UserWarning: Unable to import Axes3D. This may be due to multiple versions of Matplotlib being installed (e.g. as a system package and as a pip package). As a result, the 3D projection is not available.\n",
      "  warnings.warn(\"Unable to import Axes3D. This may be due to multiple versions of \"\n"
     ]
    },
    {
     "name": "stdout",
     "output_type": "stream",
     "text": [
      "%pylab is deprecated, use %matplotlib inline and import the required libraries.\n",
      "Populating the interactive namespace from numpy and matplotlib\n"
     ]
    }
   ],
   "source": [
    "%pylab inline\n",
    "import seaborn as sns\n",
    "\n",
    "from ipywidgets import *\n",
    "import matplotlib.pyplot as plt\n",
    "plt.rcParams.update({'font.size': 18})"
   ]
  },
  {
   "cell_type": "markdown",
   "id": "87769918",
   "metadata": {},
   "source": [
    "The mathematical approach is using the Hamiltonian operator of quantum mechanics:\n",
    "\n",
    "$$\n",
    "\\hat{H} = \\frac{\\hbar}{2m}\\nabla^2 + \\frac{1}{2}k \\hat{x}^2 \n",
    "$$\n",
    "\n",
    "Using the Schrödinger equation:\n",
    " \n",
    "$$\n",
    "\\Psi \\hat{H} = E \\Psi \n",
    "$$\n",
    "\n",
    "Then, we obtain a quantized set or energy levels:\n",
    "\n",
    "\n",
    "$$\n",
    "E = h \\omega_i (n_i +\\frac{1}{2})\n",
    "$$\n",
    "\n",
    "\n",
    "\n",
    "But, what does it represent $n$ furthermore of the quantization number?\n",
    "\n",
    "$n$ represents the each one of the normal modes. Since the normal modes are related with a determined frequency ($\\omega_i$) and this directly related to the energy, we can see that each excitation of each normal mode will require a different energy \n",
    "\n",
    "\n",
    "\n",
    "\n",
    "    \n",
    " `````{admonition} Normal Modes\n",
    ":class: tip \n",
    "\n",
    " A normal mode of an oscillating system is a pattern of motion in which all parts of the system move sinusoidally with the same frequency. The frequencies of the normal modes of a system are known as its natural frequencies or resonant frequencies. A physical object, such as a building or bridge, has a set of normal modes (and frequencies) that depend on its structure and composition.\n",
    "\n",
    "\n",
    "`````   \n",
    "    "
   ]
  },
  {
   "cell_type": "code",
   "execution_count": 2,
   "id": "b39f08a8",
   "metadata": {
    "tags": [
     "hide-input"
    ]
   },
   "outputs": [],
   "source": [
    "e          = 1.602e-19              # 1 eV = 1.602e-19 J\n",
    "ħ          = 0.658                  # [eV fs]\n",
    "c          = 3e8                    # [m/s]\n",
    "massfactor = e/c/c                  # 1 eV/c^2 = 1.79e-36 kg\n",
    "me         = 9.109e-31/massfactor   # [eV/c^2] = 0.5x10^6 eV/c^2   \n",
    "c_nmfs     = 299.792458             # [nm/fs]\n",
    "Eλ         = ħ*ħ*c_nmfs*c_nmfs/2/me # eV nm^2\n",
    "\n",
    "# Number of points in the mesh\n",
    "N    = 2**12+1\n",
    "xinf = 100.0             # nm\n",
    "ℓ    = 1.0               # nm\n",
    "α    = 1.0\n",
    "\n",
    "x    = linspace(-xinf,xinf,N)\n",
    "Δx   = x[1]-x[0]\n",
    "\n",
    "V0   = 2.0              # eV\n",
    "\n",
    "V        = α*x*x \n",
    "\n",
    "\n",
    "Mdd      = 1./(Δx*Δx)*( diag(ones(N-1),-1) -2*diag(ones(N),0) + diag(ones(N-1),1))\n",
    "H        = -Eλ*Mdd + diag(V)\n",
    "E,ψT     = eigh(H)\n",
    "ψ        = transpose(ψT)"
   ]
  },
  {
   "cell_type": "code",
   "execution_count": 3,
   "id": "57881871",
   "metadata": {},
   "outputs": [
    {
     "data": {
      "application/vnd.jupyter.widget-view+json": {
       "model_id": "5fe970e68d004e7ab1d7e1e771ca72f6",
       "version_major": 2,
       "version_minor": 0
      },
      "text/plain": [
       "interactive(children=(IntSlider(value=0, description='ψ_i', max=4), Output()), _dom_classes=('widget-interact'…"
      ]
     },
     "metadata": {},
     "output_type": "display_data"
    }
   ],
   "source": [
    "@interact(  ψ_i=(0,4,1))\n",
    "\n",
    "def QualityF( ψ_i=0):\n",
    "    V0=2.0\n",
    "    fig,ax = plt.subplots(ncols=2,nrows=1,figsize=(16,5),\n",
    "                       gridspec_kw = {'wspace':0.2, 'hspace':0, 'width_ratios': [1, 1]})\n",
    "    index = E<V0\n",
    "    itera = [j for j, x in enumerate(index) if x]\n",
    "    \n",
    "    num_shades = len(itera)\n",
    "    color_list = sns.cubehelix_palette(num_shades)\n",
    "    a= 3.5\n",
    "    ax[0].set_xlim(-a*ℓ,a*ℓ)\n",
    "    ax[1].set_xlim(-a*ℓ,a*ℓ)\n",
    "    ax[0].plot(x,V,c=\"Gray\",label=\"V(x)\")\n",
    "    ax[1].plot(x,V,c=\"Gray\",label=\"V(x)\")\n",
    "    ax[0].plot(x,E[ψ_i]+ψ[ψ_i],label=r\"$E_{0}$\".format(ψ_i),c=color_list[ψ_i])\n",
    "    ax[1].plot(x,E[ψ_i]+5*ψ[ψ_i]*ψ[ψ_i],label=r\"$E_{0}$\".format(ψ_i),c=color_list[ψ_i])\n",
    "\n",
    "\n",
    "    ax[0].plot([-1.3*ℓ,1.3*ℓ],[E[ψ_i],E[ψ_i]],'--',c=color_list[ψ_i])\n",
    "    ax[1].plot([-1.3*ℓ,1.3*ℓ],[E[ψ_i],E[ψ_i]],'--',c=color_list[ψ_i])\n",
    "\n",
    "    ax[0].set_xlabel(\"$x$ [nm]\",fontsize=16)\n",
    "    ax[0].set_ylabel(\"$E$ [eV]\",fontsize=16)\n",
    "    ax[0].legend(loc=1)\n",
    "    ax[0].set_ylim(0,V0)\n",
    "    ax[1].set_xlabel(\"$x$ [nm]\",fontsize=16)\n",
    "\n",
    "    ax[1].legend(loc=1)\n",
    "    ax[1].set_ylim(0,V0)\n",
    "\n",
    "    ax[0].set_title(\"Wavefunctions for harmonic oscillator\")\n",
    "    ax[1].set_title(\"Probability distributions for harmonic oscillator\")\n"
   ]
  },
  {
   "cell_type": "code",
   "execution_count": null,
   "id": "3903e539-1f3b-4b11-b247-ca727f454510",
   "metadata": {},
   "outputs": [],
   "source": []
  }
 ],
 "metadata": {
  "celltoolbar": "Tags",
  "kernelspec": {
   "display_name": "Python 3 (ipykernel)",
   "language": "python",
   "name": "python3"
  },
  "language_info": {
   "codemirror_mode": {
    "name": "ipython",
    "version": 3
   },
   "file_extension": ".py",
   "mimetype": "text/x-python",
   "name": "python",
   "nbconvert_exporter": "python",
   "pygments_lexer": "ipython3",
   "version": "3.9.7"
  }
 },
 "nbformat": 4,
 "nbformat_minor": 5
}
