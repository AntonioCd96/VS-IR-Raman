{
 "cells": [
  {
   "cell_type": "markdown",
   "id": "01c0a040",
   "metadata": {},
   "source": [
    "# A - Generation of IR and raman spectra for solids "
   ]
  },
  {
   "cell_type": "markdown",
   "id": "bd341f50",
   "metadata": {},
   "source": [
    "In this notebook, you will be able to simulate the infrared and Raman spectra of different solids inside crd database [1]. The simulation is complemented with the animation of each normal mode. \n",
    "\n",
    "\n",
    "---\n",
    "\n",
    "<sup> Source: Mohammad Bagheri & Hannu-Pekka Komsa . High-throughput computation of Raman spectra from first principles. Scientific data 2023, 10, 80. https://doi.org/10.3390/catal10050521 </sup>\n"
   ]
  },
  {
   "cell_type": "code",
   "execution_count": 1,
   "id": "0cd1656f",
   "metadata": {},
   "outputs": [
    {
     "name": "stdout",
     "output_type": "stream",
     "text": [
      "Requirement already satisfied: jax[cpu] in c:\\users\\roste\\anaconda3\\envs\\pyir-raman\\lib\\site-packages (0.4.25)\n",
      "Requirement already satisfied: ml-dtypes>=0.2.0 in c:\\users\\roste\\anaconda3\\envs\\pyir-raman\\lib\\site-packages (from jax[cpu]) (0.3.2)\n",
      "Requirement already satisfied: numpy>=1.22 in c:\\users\\roste\\appdata\\roaming\\python\\python39\\site-packages (from jax[cpu]) (1.26.4)\n",
      "Requirement already satisfied: opt-einsum in c:\\users\\roste\\anaconda3\\envs\\pyir-raman\\lib\\site-packages (from jax[cpu]) (3.3.0)\n",
      "Requirement already satisfied: scipy>=1.9 in c:\\users\\roste\\appdata\\roaming\\python\\python39\\site-packages (from jax[cpu]) (1.12.0)\n",
      "Requirement already satisfied: importlib-metadata>=4.6 in c:\\users\\roste\\appdata\\roaming\\python\\python39\\site-packages (from jax[cpu]) (7.0.0)\n",
      "Requirement already satisfied: jaxlib==0.4.25 in c:\\users\\roste\\anaconda3\\envs\\pyir-raman\\lib\\site-packages (from jax[cpu]) (0.4.25)\n",
      "Requirement already satisfied: zipp>=0.5 in c:\\users\\roste\\appdata\\roaming\\python\\python39\\site-packages (from importlib-metadata>=4.6->jax[cpu]) (3.17.0)\n",
      "Requirement already satisfied: py3Dmol in c:\\users\\roste\\anaconda3\\envs\\pyir-raman\\lib\\site-packages (2.1.0)\n",
      "Requirement already satisfied: rdkit in c:\\users\\roste\\anaconda3\\envs\\pyir-raman\\lib\\site-packages (2023.9.5)\n",
      "Requirement already satisfied: numpy in c:\\users\\roste\\appdata\\roaming\\python\\python39\\site-packages (from rdkit) (1.26.4)\n",
      "Requirement already satisfied: Pillow in c:\\users\\roste\\appdata\\roaming\\python\\python39\\site-packages (from rdkit) (10.2.0)\n",
      "Requirement already satisfied: mp_api==0.40.0 in c:\\users\\roste\\appdata\\roaming\\python\\python39\\site-packages (0.40.0)\n",
      "Requirement already satisfied: setuptools in c:\\users\\roste\\anaconda3\\envs\\pyir-raman\\lib\\site-packages (from mp_api==0.40.0) (58.0.4)\n",
      "Requirement already satisfied: msgpack in c:\\users\\roste\\appdata\\roaming\\python\\python39\\site-packages (from mp_api==0.40.0) (1.0.7)\n",
      "Requirement already satisfied: maggma>=0.57.1 in c:\\users\\roste\\appdata\\roaming\\python\\python39\\site-packages (from mp_api==0.40.0) (0.63.2)\n",
      "Requirement already satisfied: pymatgen>=2022.3.7 in c:\\users\\roste\\appdata\\roaming\\python\\python39\\site-packages (from mp_api==0.40.0) (2024.2.8)\n",
      "Requirement already satisfied: typing-extensions>=3.7.4.1 in c:\\users\\roste\\appdata\\roaming\\python\\python39\\site-packages (from mp_api==0.40.0) (4.8.0)\n",
      "Requirement already satisfied: requests>=2.23.0 in c:\\users\\roste\\appdata\\roaming\\python\\python39\\site-packages (from mp_api==0.40.0) (2.31.0)\n",
      "Requirement already satisfied: monty>=2023.9.25 in c:\\users\\roste\\appdata\\roaming\\python\\python39\\site-packages (from mp_api==0.40.0) (2024.2.2)\n",
      "Requirement already satisfied: emmet-core>=0.78.0rc3 in c:\\users\\roste\\appdata\\roaming\\python\\python39\\site-packages (from mp_api==0.40.0) (0.78.0rc4)\n",
      "Requirement already satisfied: pydantic>=2.0 in c:\\users\\roste\\appdata\\roaming\\python\\python39\\site-packages (from emmet-core>=0.78.0rc3->mp_api==0.40.0) (2.6.1)\n",
      "Requirement already satisfied: pydantic-settings>=2.0 in c:\\users\\roste\\appdata\\roaming\\python\\python39\\site-packages (from emmet-core>=0.78.0rc3->mp_api==0.40.0) (2.2.0)\n",
      "Requirement already satisfied: pybtex~=0.24 in c:\\users\\roste\\appdata\\roaming\\python\\python39\\site-packages (from emmet-core>=0.78.0rc3->mp_api==0.40.0) (0.24.0)\n",
      "Requirement already satisfied: ruamel.yaml<0.18 in c:\\users\\roste\\appdata\\roaming\\python\\python39\\site-packages (from maggma>=0.57.1->mp_api==0.40.0) (0.17.40)\n",
      "Requirement already satisfied: pymongo>=4.2.0 in c:\\users\\roste\\appdata\\roaming\\python\\python39\\site-packages (from maggma>=0.57.1->mp_api==0.40.0) (4.6.1)\n",
      "Requirement already satisfied: mongomock>=3.10.0 in c:\\users\\roste\\appdata\\roaming\\python\\python39\\site-packages (from maggma>=0.57.1->mp_api==0.40.0) (4.1.2)\n",
      "Requirement already satisfied: pydash>=4.1.0 in c:\\users\\roste\\appdata\\roaming\\python\\python39\\site-packages (from maggma>=0.57.1->mp_api==0.40.0) (7.0.7)\n",
      "Requirement already satisfied: jsonschema>=3.1.1 in c:\\users\\roste\\appdata\\roaming\\python\\python39\\site-packages (from maggma>=0.57.1->mp_api==0.40.0) (4.21.1)\n",
      "Requirement already satisfied: tqdm>=4.19.6 in c:\\users\\roste\\appdata\\roaming\\python\\python39\\site-packages (from maggma>=0.57.1->mp_api==0.40.0) (4.66.2)\n",
      "Requirement already satisfied: mongogrant>=0.3.1 in c:\\users\\roste\\appdata\\roaming\\python\\python39\\site-packages (from maggma>=0.57.1->mp_api==0.40.0) (0.3.3)\n",
      "Requirement already satisfied: aioitertools>=0.5.1 in c:\\users\\roste\\appdata\\roaming\\python\\python39\\site-packages (from maggma>=0.57.1->mp_api==0.40.0) (0.11.0)\n",
      "Requirement already satisfied: numpy>=1.17.3 in c:\\users\\roste\\appdata\\roaming\\python\\python39\\site-packages (from maggma>=0.57.1->mp_api==0.40.0) (1.26.4)\n",
      "Requirement already satisfied: fastapi>=0.42.0 in c:\\users\\roste\\appdata\\roaming\\python\\python39\\site-packages (from maggma>=0.57.1->mp_api==0.40.0) (0.109.2)\n",
      "Requirement already satisfied: pyzmq>=24.0.1 in c:\\users\\roste\\appdata\\roaming\\python\\python39\\site-packages (from maggma>=0.57.1->mp_api==0.40.0) (25.1.2)\n",
      "Requirement already satisfied: dnspython>=1.16.0 in c:\\users\\roste\\appdata\\roaming\\python\\python39\\site-packages (from maggma>=0.57.1->mp_api==0.40.0) (2.6.1)\n",
      "Requirement already satisfied: sshtunnel>=0.1.5 in c:\\users\\roste\\appdata\\roaming\\python\\python39\\site-packages (from maggma>=0.57.1->mp_api==0.40.0) (0.4.0)\n",
      "Requirement already satisfied: orjson>=3.9.0 in c:\\users\\roste\\appdata\\roaming\\python\\python39\\site-packages (from maggma>=0.57.1->mp_api==0.40.0) (3.9.14)\n",
      "Requirement already satisfied: boto3>=1.20.41 in c:\\users\\roste\\appdata\\roaming\\python\\python39\\site-packages (from maggma>=0.57.1->mp_api==0.40.0) (1.34.44)\n",
      "Requirement already satisfied: python-dateutil>=2.8.2 in c:\\users\\roste\\appdata\\roaming\\python\\python39\\site-packages (from maggma>=0.57.1->mp_api==0.40.0) (2.8.2)\n",
      "Requirement already satisfied: uvicorn>=0.18.3 in c:\\users\\roste\\appdata\\roaming\\python\\python39\\site-packages (from maggma>=0.57.1->mp_api==0.40.0) (0.27.1)\n",
      "Requirement already satisfied: matplotlib>=1.5 in c:\\users\\roste\\appdata\\roaming\\python\\python39\\site-packages (from pymatgen>=2022.3.7->mp_api==0.40.0) (3.8.3)\n",
      "Requirement already satisfied: networkx>=2.2 in c:\\users\\roste\\appdata\\roaming\\python\\python39\\site-packages (from pymatgen>=2022.3.7->mp_api==0.40.0) (3.2.1)\n",
      "Requirement already satisfied: palettable>=3.1.1 in c:\\users\\roste\\appdata\\roaming\\python\\python39\\site-packages (from pymatgen>=2022.3.7->mp_api==0.40.0) (3.3.3)\n",
      "Requirement already satisfied: pandas in c:\\users\\roste\\appdata\\roaming\\python\\python39\\site-packages (from pymatgen>=2022.3.7->mp_api==0.40.0) (2.2.0)\n",
      "Requirement already satisfied: plotly>=4.5.0 in c:\\users\\roste\\appdata\\roaming\\python\\python39\\site-packages (from pymatgen>=2022.3.7->mp_api==0.40.0) (5.19.0)\n",
      "Requirement already satisfied: scipy>=1.5.0 in c:\\users\\roste\\appdata\\roaming\\python\\python39\\site-packages (from pymatgen>=2022.3.7->mp_api==0.40.0) (1.12.0)\n",
      "Requirement already satisfied: spglib>=2.0.2 in c:\\users\\roste\\appdata\\roaming\\python\\python39\\site-packages (from pymatgen>=2022.3.7->mp_api==0.40.0) (2.3.1)\n",
      "Requirement already satisfied: sympy in c:\\users\\roste\\appdata\\roaming\\python\\python39\\site-packages (from pymatgen>=2022.3.7->mp_api==0.40.0) (1.12)\n",
      "Requirement already satisfied: tabulate in c:\\users\\roste\\appdata\\roaming\\python\\python39\\site-packages (from pymatgen>=2022.3.7->mp_api==0.40.0) (0.9.0)\n",
      "Requirement already satisfied: uncertainties>=3.1.4 in c:\\users\\roste\\appdata\\roaming\\python\\python39\\site-packages (from pymatgen>=2022.3.7->mp_api==0.40.0) (3.1.7)\n",
      "Requirement already satisfied: joblib in c:\\users\\roste\\appdata\\roaming\\python\\python39\\site-packages (from pymatgen>=2022.3.7->mp_api==0.40.0) (1.3.2)\n",
      "Requirement already satisfied: charset-normalizer<4,>=2 in c:\\users\\roste\\appdata\\roaming\\python\\python39\\site-packages (from requests>=2.23.0->mp_api==0.40.0) (3.3.2)\n",
      "Requirement already satisfied: idna<4,>=2.5 in c:\\users\\roste\\appdata\\roaming\\python\\python39\\site-packages (from requests>=2.23.0->mp_api==0.40.0) (3.6)\n",
      "Requirement already satisfied: urllib3<3,>=1.21.1 in c:\\users\\roste\\appdata\\roaming\\python\\python39\\site-packages (from requests>=2.23.0->mp_api==0.40.0) (1.26.18)\n",
      "Requirement already satisfied: certifi>=2017.4.17 in c:\\users\\roste\\appdata\\roaming\\python\\python39\\site-packages (from requests>=2.23.0->mp_api==0.40.0) (2024.2.2)\n",
      "Requirement already satisfied: botocore<1.35.0,>=1.34.44 in c:\\users\\roste\\appdata\\roaming\\python\\python39\\site-packages (from boto3>=1.20.41->maggma>=0.57.1->mp_api==0.40.0) (1.34.44)\n",
      "Requirement already satisfied: jmespath<2.0.0,>=0.7.1 in c:\\users\\roste\\appdata\\roaming\\python\\python39\\site-packages (from boto3>=1.20.41->maggma>=0.57.1->mp_api==0.40.0) (1.0.1)\n",
      "Requirement already satisfied: s3transfer<0.11.0,>=0.10.0 in c:\\users\\roste\\appdata\\roaming\\python\\python39\\site-packages (from boto3>=1.20.41->maggma>=0.57.1->mp_api==0.40.0) (0.10.0)\n",
      "Requirement already satisfied: starlette<0.37.0,>=0.36.3 in c:\\users\\roste\\appdata\\roaming\\python\\python39\\site-packages (from fastapi>=0.42.0->maggma>=0.57.1->mp_api==0.40.0) (0.36.3)\n",
      "Requirement already satisfied: attrs>=22.2.0 in c:\\users\\roste\\appdata\\roaming\\python\\python39\\site-packages (from jsonschema>=3.1.1->maggma>=0.57.1->mp_api==0.40.0) (23.2.0)\n",
      "Requirement already satisfied: jsonschema-specifications>=2023.03.6 in c:\\users\\roste\\appdata\\roaming\\python\\python39\\site-packages (from jsonschema>=3.1.1->maggma>=0.57.1->mp_api==0.40.0) (2023.12.1)\n",
      "Requirement already satisfied: referencing>=0.28.4 in c:\\users\\roste\\appdata\\roaming\\python\\python39\\site-packages (from jsonschema>=3.1.1->maggma>=0.57.1->mp_api==0.40.0) (0.33.0)\n",
      "Requirement already satisfied: rpds-py>=0.7.1 in c:\\users\\roste\\appdata\\roaming\\python\\python39\\site-packages (from jsonschema>=3.1.1->maggma>=0.57.1->mp_api==0.40.0) (0.18.0)\n",
      "Requirement already satisfied: contourpy>=1.0.1 in c:\\users\\roste\\appdata\\roaming\\python\\python39\\site-packages (from matplotlib>=1.5->pymatgen>=2022.3.7->mp_api==0.40.0) (1.2.0)\n",
      "Requirement already satisfied: cycler>=0.10 in c:\\users\\roste\\appdata\\roaming\\python\\python39\\site-packages (from matplotlib>=1.5->pymatgen>=2022.3.7->mp_api==0.40.0) (0.12.1)\n",
      "Requirement already satisfied: fonttools>=4.22.0 in c:\\users\\roste\\appdata\\roaming\\python\\python39\\site-packages (from matplotlib>=1.5->pymatgen>=2022.3.7->mp_api==0.40.0) (4.49.0)\n",
      "Requirement already satisfied: kiwisolver>=1.3.1 in c:\\users\\roste\\appdata\\roaming\\python\\python39\\site-packages (from matplotlib>=1.5->pymatgen>=2022.3.7->mp_api==0.40.0) (1.4.5)\n",
      "Requirement already satisfied: packaging>=20.0 in c:\\users\\roste\\appdata\\roaming\\python\\python39\\site-packages (from matplotlib>=1.5->pymatgen>=2022.3.7->mp_api==0.40.0) (23.2)\n",
      "Requirement already satisfied: pillow>=8 in c:\\users\\roste\\appdata\\roaming\\python\\python39\\site-packages (from matplotlib>=1.5->pymatgen>=2022.3.7->mp_api==0.40.0) (10.2.0)\n",
      "Requirement already satisfied: pyparsing>=2.3.1 in c:\\users\\roste\\appdata\\roaming\\python\\python39\\site-packages (from matplotlib>=1.5->pymatgen>=2022.3.7->mp_api==0.40.0) (3.1.1)\n",
      "Requirement already satisfied: importlib-resources>=3.2.0 in c:\\users\\roste\\appdata\\roaming\\python\\python39\\site-packages (from matplotlib>=1.5->pymatgen>=2022.3.7->mp_api==0.40.0) (6.1.1)\n",
      "Requirement already satisfied: Click in c:\\users\\roste\\appdata\\roaming\\python\\python39\\site-packages (from mongogrant>=0.3.1->maggma>=0.57.1->mp_api==0.40.0) (8.1.7)\n",
      "Requirement already satisfied: Flask>=1.0 in c:\\users\\roste\\appdata\\roaming\\python\\python39\\site-packages (from mongogrant>=0.3.1->maggma>=0.57.1->mp_api==0.40.0) (3.0.2)\n",
      "Requirement already satisfied: sentinels in c:\\users\\roste\\appdata\\roaming\\python\\python39\\site-packages (from mongomock>=3.10.0->maggma>=0.57.1->mp_api==0.40.0) (1.0.0)\n",
      "Requirement already satisfied: tenacity>=6.2.0 in c:\\users\\roste\\appdata\\roaming\\python\\python39\\site-packages (from plotly>=4.5.0->pymatgen>=2022.3.7->mp_api==0.40.0) (8.2.3)\n",
      "Requirement already satisfied: PyYAML>=3.01 in c:\\users\\roste\\appdata\\roaming\\python\\python39\\site-packages (from pybtex~=0.24->emmet-core>=0.78.0rc3->mp_api==0.40.0) (6.0.1)\n",
      "Requirement already satisfied: latexcodec>=1.0.4 in c:\\users\\roste\\appdata\\roaming\\python\\python39\\site-packages (from pybtex~=0.24->emmet-core>=0.78.0rc3->mp_api==0.40.0) (2.0.1)\n",
      "Requirement already satisfied: six in c:\\users\\roste\\appdata\\roaming\\python\\python39\\site-packages (from pybtex~=0.24->emmet-core>=0.78.0rc3->mp_api==0.40.0) (1.16.0)\n",
      "Requirement already satisfied: annotated-types>=0.4.0 in c:\\users\\roste\\appdata\\roaming\\python\\python39\\site-packages (from pydantic>=2.0->emmet-core>=0.78.0rc3->mp_api==0.40.0) (0.6.0)\n",
      "Requirement already satisfied: pydantic-core==2.16.2 in c:\\users\\roste\\appdata\\roaming\\python\\python39\\site-packages (from pydantic>=2.0->emmet-core>=0.78.0rc3->mp_api==0.40.0) (2.16.2)\n",
      "Requirement already satisfied: python-dotenv>=0.21.0 in c:\\users\\roste\\appdata\\roaming\\python\\python39\\site-packages (from pydantic-settings>=2.0->emmet-core>=0.78.0rc3->mp_api==0.40.0) (1.0.1)\n",
      "Requirement already satisfied: ruamel.yaml.clib>=0.2.7 in c:\\users\\roste\\appdata\\roaming\\python\\python39\\site-packages (from ruamel.yaml<0.18->maggma>=0.57.1->mp_api==0.40.0) (0.2.8)\n",
      "Requirement already satisfied: paramiko>=2.7.2 in c:\\users\\roste\\appdata\\roaming\\python\\python39\\site-packages (from sshtunnel>=0.1.5->maggma>=0.57.1->mp_api==0.40.0) (3.4.0)\n",
      "Requirement already satisfied: colorama in c:\\users\\roste\\appdata\\roaming\\python\\python39\\site-packages (from tqdm>=4.19.6->maggma>=0.57.1->mp_api==0.40.0) (0.4.6)\n",
      "Requirement already satisfied: future in c:\\users\\roste\\appdata\\roaming\\python\\python39\\site-packages (from uncertainties>=3.1.4->pymatgen>=2022.3.7->mp_api==0.40.0) (0.18.3)\n",
      "Requirement already satisfied: h11>=0.8 in c:\\users\\roste\\appdata\\roaming\\python\\python39\\site-packages (from uvicorn>=0.18.3->maggma>=0.57.1->mp_api==0.40.0) (0.14.0)\n",
      "Requirement already satisfied: pytz>=2020.1 in c:\\users\\roste\\appdata\\roaming\\python\\python39\\site-packages (from pandas->pymatgen>=2022.3.7->mp_api==0.40.0) (2024.1)\n",
      "Requirement already satisfied: tzdata>=2022.7 in c:\\users\\roste\\appdata\\roaming\\python\\python39\\site-packages (from pandas->pymatgen>=2022.3.7->mp_api==0.40.0) (2024.1)\n",
      "Requirement already satisfied: mpmath>=0.19 in c:\\users\\roste\\appdata\\roaming\\python\\python39\\site-packages (from sympy->pymatgen>=2022.3.7->mp_api==0.40.0) (1.3.0)\n",
      "Requirement already satisfied: Werkzeug>=3.0.0 in c:\\users\\roste\\appdata\\roaming\\python\\python39\\site-packages (from Flask>=1.0->mongogrant>=0.3.1->maggma>=0.57.1->mp_api==0.40.0) (3.0.1)\n",
      "Requirement already satisfied: Jinja2>=3.1.2 in c:\\users\\roste\\appdata\\roaming\\python\\python39\\site-packages (from Flask>=1.0->mongogrant>=0.3.1->maggma>=0.57.1->mp_api==0.40.0) (3.1.3)\n",
      "Requirement already satisfied: itsdangerous>=2.1.2 in c:\\users\\roste\\appdata\\roaming\\python\\python39\\site-packages (from Flask>=1.0->mongogrant>=0.3.1->maggma>=0.57.1->mp_api==0.40.0) (2.1.2)\n",
      "Requirement already satisfied: blinker>=1.6.2 in c:\\users\\roste\\appdata\\roaming\\python\\python39\\site-packages (from Flask>=1.0->mongogrant>=0.3.1->maggma>=0.57.1->mp_api==0.40.0) (1.7.0)\n",
      "Requirement already satisfied: importlib-metadata>=3.6.0 in c:\\users\\roste\\appdata\\roaming\\python\\python39\\site-packages (from Flask>=1.0->mongogrant>=0.3.1->maggma>=0.57.1->mp_api==0.40.0) (7.0.0)\n",
      "Requirement already satisfied: zipp>=3.1.0 in c:\\users\\roste\\appdata\\roaming\\python\\python39\\site-packages (from importlib-resources>=3.2.0->matplotlib>=1.5->pymatgen>=2022.3.7->mp_api==0.40.0) (3.17.0)\n",
      "Requirement already satisfied: bcrypt>=3.2 in c:\\users\\roste\\appdata\\roaming\\python\\python39\\site-packages (from paramiko>=2.7.2->sshtunnel>=0.1.5->maggma>=0.57.1->mp_api==0.40.0) (4.1.2)\n",
      "Requirement already satisfied: cryptography>=3.3 in c:\\users\\roste\\appdata\\roaming\\python\\python39\\site-packages (from paramiko>=2.7.2->sshtunnel>=0.1.5->maggma>=0.57.1->mp_api==0.40.0) (42.0.3)\n",
      "Requirement already satisfied: pynacl>=1.5 in c:\\users\\roste\\appdata\\roaming\\python\\python39\\site-packages (from paramiko>=2.7.2->sshtunnel>=0.1.5->maggma>=0.57.1->mp_api==0.40.0) (1.5.0)\n",
      "Requirement already satisfied: anyio<5,>=3.4.0 in c:\\users\\roste\\appdata\\roaming\\python\\python39\\site-packages (from starlette<0.37.0,>=0.36.3->fastapi>=0.42.0->maggma>=0.57.1->mp_api==0.40.0) (4.3.0)\n",
      "Requirement already satisfied: sniffio>=1.1 in c:\\users\\roste\\appdata\\roaming\\python\\python39\\site-packages (from anyio<5,>=3.4.0->starlette<0.37.0,>=0.36.3->fastapi>=0.42.0->maggma>=0.57.1->mp_api==0.40.0) (1.3.0)\n",
      "Requirement already satisfied: exceptiongroup>=1.0.2 in c:\\users\\roste\\appdata\\roaming\\python\\python39\\site-packages (from anyio<5,>=3.4.0->starlette<0.37.0,>=0.36.3->fastapi>=0.42.0->maggma>=0.57.1->mp_api==0.40.0) (1.2.0)\n",
      "Requirement already satisfied: cffi>=1.12 in c:\\users\\roste\\appdata\\roaming\\python\\python39\\site-packages (from cryptography>=3.3->paramiko>=2.7.2->sshtunnel>=0.1.5->maggma>=0.57.1->mp_api==0.40.0) (1.16.0)\n",
      "Requirement already satisfied: MarkupSafe>=2.0 in c:\\users\\roste\\appdata\\roaming\\python\\python39\\site-packages (from Jinja2>=3.1.2->Flask>=1.0->mongogrant>=0.3.1->maggma>=0.57.1->mp_api==0.40.0) (2.1.5)\n",
      "Requirement already satisfied: pycparser in c:\\users\\roste\\appdata\\roaming\\python\\python39\\site-packages (from cffi>=1.12->cryptography>=3.3->paramiko>=2.7.2->sshtunnel>=0.1.5->maggma>=0.57.1->mp_api==0.40.0) (2.21)\n"
     ]
    }
   ],
   "source": [
    "!pip install -U \"jax[cpu]\"\n",
    "!pip install py3Dmol\n",
    "!pip install rdkit\n",
    "!pip install mp_api==0.40.0"
   ]
  },
  {
   "cell_type": "code",
   "execution_count": 1,
   "id": "894286d5-e638-40f3-8460-0d78e5d90fe9",
   "metadata": {},
   "outputs": [
    {
     "name": "stderr",
     "output_type": "stream",
     "text": [
      "C:\\Users\\roste\\AppData\\Roaming\\Python\\Python39\\site-packages\\matplotlib\\projections\\__init__.py:63: UserWarning: Unable to import Axes3D. This may be due to multiple versions of Matplotlib being installed (e.g. as a system package and as a pip package). As a result, the 3D projection is not available.\n",
      "  warnings.warn(\"Unable to import Axes3D. This may be due to multiple versions of \"\n"
     ]
    },
    {
     "data": {
      "application/vnd.jupyter.widget-view+json": {
       "model_id": "14da667b26f646acb33ccb066a1eafd1",
       "version_major": 2,
       "version_minor": 0
      },
      "text/plain": []
     },
     "metadata": {},
     "output_type": "display_data"
    },
    {
     "name": "stdout",
     "output_type": "stream",
     "text": [
      "No module named 'phonopy'\n",
      "No module named 'phonopy'\n"
     ]
    }
   ],
   "source": [
    "# Imoporting packages\n",
    "from quetzalcoatl_1 import Animator_data, spectra_data, solids_spectra\n",
    "from pylab import *\n",
    "from ipywidgets import interact, Dropdown\n",
    "import numpy as np\n",
    "from pymatgen.io.cif import CifWriter\n",
    "import nglview as nv\n",
    "from pymatgen.ext.matproj import MPRester\n",
    "from mp_api.client import MPRester\n",
    "import pandas as pd\n",
    "from emmet.core.summary import HasProps\n",
    "from nglview import show_structure_file\n",
    "import json\n",
    "from dash import Dash, dcc, html, Input, Output,callback"
   ]
  },
  {
   "cell_type": "code",
   "execution_count": 2,
   "id": "bf9e38fc-5f60-4093-95e3-9b111541dda5",
   "metadata": {},
   "outputs": [],
   "source": [
    "# Use your own API_key available in materials project: https://next-gen.materialsproject.org/api \n",
    "\n",
    "API_key= \"A55hSVu7NuwvlISilTvVtw37IB5ES26w\"\n",
    "def plot_phonon_and_structure(material_id):\n",
    " \n",
    "    with MPRester(API_key) as mpr:\n",
    "        structure = mpr.get_structure_by_material_id(material_id)  \n",
    "    cif_filename = f\"material_structure_{material_id}.cif\"  # Name of the output CIF file\n",
    "    cif_writer = CifWriter(structure)\n",
    "    cif_writer.write_file(cif_filename)\n",
    "    struct_file = nv.FileStructure(cif_filename)\n",
    "    \n",
    "    view = nv.show_file(struct_file)\n",
    "    view._remote_call(\"setSize\", args=[\"\", \"300px\"])\n",
    "    view.camera = \"orthographic\"\n",
    "    view.add_unitcell()\n",
    "    view\n",
    "    return view\n",
    "\n",
    "# Opening JSON file for iterative search \n",
    "f = open('auxiliar/formulas-mpid.json')\n",
    "data_r = json.load(f)\n"
   ]
  },
  {
   "cell_type": "code",
   "execution_count": 3,
   "id": "62cb9d97-9fb1-4632-86ab-3a57705541fb",
   "metadata": {},
   "outputs": [
    {
     "data": {
      "text/html": [
       "\n",
       "        <iframe\n",
       "            width=\"20%\"\n",
       "            height=\"250\"\n",
       "            src=\"http://127.0.0.1:8050/\"\n",
       "            frameborder=\"0\"\n",
       "            allowfullscreen\n",
       "            \n",
       "        ></iframe>\n",
       "        "
      ],
      "text/plain": [
       "<IPython.lib.display.IFrame at 0x1a0bb0be940>"
      ]
     },
     "metadata": {},
     "output_type": "display_data"
    }
   ],
   "source": [
    "# Building a search engine where you can look for an element inside a compound\n",
    "app = Dash(__name__)\n",
    "app.layout = html.Div(\n",
    "    [dcc.Dropdown(list(data_r.keys()), 'O16Sr2Te6', id='demo-dropdown'),\n",
    "    html.Div(id='dd-output-container')])\n",
    "\n",
    "@callback(Output('dd-output-container', 'children'),\n",
    "    Input('demo-dropdown', 'value'))\n",
    "\n",
    "def update_output(value):\n",
    "    global material\n",
    "    material = value\n",
    "    return 'You have selected ', value\n",
    "if __name__ == '__main__':\n",
    "    app.run_server(debug=False,  jupyter_width='20%',\n",
    "    jupyter_height=250)\n",
    "    \n"
   ]
  },
  {
   "cell_type": "code",
   "execution_count": 5,
   "id": "d7dd9d4a-9531-4d4e-800b-5e24953b89f8",
   "metadata": {},
   "outputs": [
    {
     "data": {
      "application/vnd.jupyter.widget-view+json": {
       "model_id": "b367a28168014b5b8a50caf40d03b9d7",
       "version_major": 2,
       "version_minor": 0
      },
      "text/plain": [
       "Retrieving MaterialsDoc documents:   0%|          | 0/1 [00:00<?, ?it/s]"
      ]
     },
     "metadata": {},
     "output_type": "display_data"
    },
    {
     "data": {
      "application/vnd.jupyter.widget-view+json": {
       "model_id": "a04ebd160690480cba60cef800f85eb3",
       "version_major": 2,
       "version_minor": 0
      },
      "text/plain": [
       "NGLWidget()"
      ]
     },
     "metadata": {},
     "output_type": "display_data"
    }
   ],
   "source": [
    "#Write the formula as it appears in the search engine \n",
    "material = \"O16Sr2Te6\"\n",
    "plot_phonon_and_structure(data_r[material][0])"
   ]
  },
  {
   "cell_type": "code",
   "execution_count": 6,
   "id": "177ffe3b-452c-4303-bf22-ed57c05a5576",
   "metadata": {},
   "outputs": [
    {
     "name": "stdout",
     "output_type": "stream",
     "text": [
      "You are analyzing the material:  O16Sr2Te6\n",
      "1\n"
     ]
    }
   ],
   "source": [
    "print(\"You are analyzing the material: \",material)\n",
    "solid_formula = material\n",
    "ID             = data_r[solid_formula][1]\n",
    "print(ID)\n",
    "Animator_data(ID)\n"
   ]
  },
  {
   "cell_type": "code",
   "execution_count": 7,
   "id": "3a1499cb-c0c6-4cf5-aed4-75eb53fd2b40",
   "metadata": {},
   "outputs": [
    {
     "name": "stdout",
     "output_type": "stream",
     "text": [
      "The chemical formula of this material is:  O16Sr2Te6\n",
      "The lattice parameters of this material are, in the order (a,b,c) [A]:  [6.8398043  6.8398043  6.78836905]\n",
      "The lattice angles of this material are, in the order (α,β,γ):  [90. 90. 90.]\n",
      "The cell vectors of this material are, in matrix notation: \n",
      "[[6.8398043  0.         0.        ]\n",
      " [0.         6.8398043  0.        ]\n",
      " [0.         0.         6.78836905]]\n",
      "The density of this material in [kg/m^3]:  6303.32\n",
      "For more properties of the material you can consult it in the materials project webpage with the following ID:  mp-3252\n"
     ]
    },
    {
     "data": {
      "application/vnd.jupyter.widget-view+json": {
       "model_id": "75a1f7f92191410b99dd3b4400861a4e",
       "version_major": 2,
       "version_minor": 0
      },
      "text/plain": [
       "interactive(children=(Dropdown(description='Normal mode:', options=((0.0, 0), (0.0, 1), (0.0, 2), (21.04, 3), …"
      ]
     },
     "metadata": {},
     "output_type": "display_data"
    }
   ],
   "source": [
    "sigma_IR=10\n",
    "sigma_Raman=10\n",
    "freq_gn_ir, int_gn_ir, int_n_ir , freq_gn_raman, int_gn_raman, int_n_raman= spectra_data(ID, sigma_IR, sigma_Raman)\n",
    "solids_spectra(\"readme_solids.txt\", freq_gn_ir, int_gn_ir, freq_gn_raman, int_gn_raman)\n"
   ]
  },
  {
   "cell_type": "code",
   "execution_count": null,
   "id": "a228e820-936e-4dd3-b084-1606a114b01e",
   "metadata": {},
   "outputs": [],
   "source": []
  },
  {
   "cell_type": "code",
   "execution_count": null,
   "id": "3d3971fd-928a-4cd2-86c8-21ea05005d80",
   "metadata": {},
   "outputs": [],
   "source": []
  }
 ],
 "metadata": {
  "kernelspec": {
   "display_name": "Python 3 (ipykernel)",
   "language": "python",
   "name": "python3"
  },
  "language_info": {
   "codemirror_mode": {
    "name": "ipython",
    "version": 3
   },
   "file_extension": ".py",
   "mimetype": "text/x-python",
   "name": "python",
   "nbconvert_exporter": "python",
   "pygments_lexer": "ipython3",
   "version": "3.9.7"
  }
 },
 "nbformat": 4,
 "nbformat_minor": 5
}
