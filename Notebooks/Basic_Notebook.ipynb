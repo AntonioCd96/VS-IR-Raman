{
 "cells": [
  {
   "cell_type": "markdown",
   "id": "1cf02d94",
   "metadata": {},
   "source": [
    "# L/A - Jupyter Notebook\n",
    "**OBJ: Get familiar with development environment of Jupyter Notebook** "
   ]
  },
  {
   "cell_type": "markdown",
   "id": "966457c1",
   "metadata": {},
   "source": [
    "## Identify Cells\n",
    "1) Add a Cell\n",
    "\n",
    "2) Type of cell: *Markdown*\n",
    "\n",
    "  [Markdown-BasicSyntax](https://www.markdownguide.org/basic-syntax/)"
   ]
  },
  {
   "cell_type": "code",
   "execution_count": 1,
   "id": "b9384648",
   "metadata": {},
   "outputs": [],
   "source": [
    "# 3) You can comment using hashtag "
   ]
  },
  {
   "cell_type": "markdown",
   "id": "ff107709",
   "metadata": {},
   "source": [
    "4) Identify icons:\n",
    "\n",
    "    Save: to save your work (not really neeeded, python has an autosaving)\n",
    "    \n",
    "    Add Cell \n",
    "    \n",
    "    Cut/Copy/Paste\n",
    "    \n",
    "    Move selected cells up/down\n",
    "    \n",
    "    Run/Stop: Run the code inside a cell\n",
    "    \n",
    "    Command palette\n",
    "    \n",
    "    "
   ]
  },
  {
   "cell_type": "markdown",
   "id": "788bbf1b",
   "metadata": {},
   "source": [
    "5) Kernel: It is the execution engine of all the contents of the Notebook.\n",
    "\n",
    "*Ej. Python3*"
   ]
  },
  {
   "cell_type": "code",
   "execution_count": null,
   "id": "79962d16",
   "metadata": {},
   "outputs": [],
   "source": []
  },
  {
   "cell_type": "markdown",
   "id": "9f483782",
   "metadata": {},
   "source": [
    "# Python:\n",
    "it's an interpreted programming language\n",
    "### Advantages\n",
    "* Batteries included\n",
    "* Easy to learn\n",
    "* Code is easy to read\n",
    "* Universal (multiplataform)\n",
    "\n",
    "- - - \n",
    "### Content\n",
    "\n",
    "* *Aritmetics*\n",
    "- - -"
   ]
  },
  {
   "cell_type": "markdown",
   "id": "2e5456f2",
   "metadata": {},
   "source": [
    "## Aritmetics"
   ]
  },
  {
   "cell_type": "code",
   "execution_count": 7,
   "id": "97ff109f",
   "metadata": {},
   "outputs": [
    {
     "data": {
      "text/plain": [
       "4"
      ]
     },
     "execution_count": 7,
     "metadata": {},
     "output_type": "execute_result"
    }
   ],
   "source": [
    "2+2 # Sum"
   ]
  },
  {
   "cell_type": "code",
   "execution_count": 8,
   "id": "3b5acd2e",
   "metadata": {},
   "outputs": [
    {
     "data": {
      "text/plain": [
       "0"
      ]
     },
     "execution_count": 8,
     "metadata": {},
     "output_type": "execute_result"
    }
   ],
   "source": [
    "2-2 # Take away"
   ]
  },
  {
   "cell_type": "code",
   "execution_count": 9,
   "id": "430119f0",
   "metadata": {},
   "outputs": [
    {
     "data": {
      "text/plain": [
       "8"
      ]
     },
     "execution_count": 9,
     "metadata": {},
     "output_type": "execute_result"
    }
   ],
   "source": [
    "4*2 # Multiplication"
   ]
  },
  {
   "cell_type": "code",
   "execution_count": 10,
   "id": "6ab7c545",
   "metadata": {},
   "outputs": [
    {
     "data": {
      "text/plain": [
       "0.5"
      ]
     },
     "execution_count": 10,
     "metadata": {},
     "output_type": "execute_result"
    }
   ],
   "source": [
    "1/2 # Division"
   ]
  },
  {
   "cell_type": "code",
   "execution_count": 11,
   "id": "c948a3d7",
   "metadata": {},
   "outputs": [
    {
     "data": {
      "text/plain": [
       "2.0"
      ]
     },
     "execution_count": 11,
     "metadata": {},
     "output_type": "execute_result"
    }
   ],
   "source": [
    "4*2/4 # Operations are executed in order"
   ]
  },
  {
   "cell_type": "code",
   "execution_count": 12,
   "id": "ec804321",
   "metadata": {},
   "outputs": [
    {
     "data": {
      "text/plain": [
       "2.5"
      ]
     },
     "execution_count": 12,
     "metadata": {},
     "output_type": "execute_result"
    }
   ],
   "source": [
    "2+1/2 # Operations are executed in order"
   ]
  },
  {
   "cell_type": "code",
   "execution_count": 15,
   "id": "56ce0be7",
   "metadata": {},
   "outputs": [
    {
     "data": {
      "text/plain": [
       "4"
      ]
     },
     "execution_count": 15,
     "metadata": {},
     "output_type": "execute_result"
    }
   ],
   "source": [
    "2**2 # Powers"
   ]
  },
  {
   "cell_type": "code",
   "execution_count": 17,
   "id": "0954f00b",
   "metadata": {},
   "outputs": [
    {
     "data": {
      "text/plain": [
       "65536"
      ]
     },
     "execution_count": 17,
     "metadata": {},
     "output_type": "execute_result"
    }
   ],
   "source": [
    "2**2**2**2 # more powers"
   ]
  },
  {
   "cell_type": "code",
   "execution_count": 18,
   "id": "abb0fd64",
   "metadata": {},
   "outputs": [
    {
     "data": {
      "text/plain": [
       "65536"
      ]
     },
     "execution_count": 18,
     "metadata": {},
     "output_type": "execute_result"
    }
   ],
   "source": [
    "2**16 # more powers"
   ]
  },
  {
   "cell_type": "code",
   "execution_count": 19,
   "id": "e399093b",
   "metadata": {},
   "outputs": [
    {
     "data": {
      "text/plain": [
       "(-1+0j)"
      ]
     },
     "execution_count": 19,
     "metadata": {},
     "output_type": "execute_result"
    }
   ],
   "source": [
    "1+1J # complex numbers"
   ]
  },
  {
   "cell_type": "code",
   "execution_count": 20,
   "id": "f3b4e5a3",
   "metadata": {},
   "outputs": [
    {
     "data": {
      "text/plain": [
       "(-1+0j)"
      ]
     },
     "execution_count": 20,
     "metadata": {},
     "output_type": "execute_result"
    }
   ],
   "source": [
    "1J*1J # i*i = (√i)(√i)"
   ]
  },
  {
   "cell_type": "markdown",
   "id": "070968f7",
   "metadata": {},
   "source": [
    "**function** `type()`"
   ]
  },
  {
   "cell_type": "code",
   "execution_count": 21,
   "id": "f3926e9a",
   "metadata": {},
   "outputs": [
    {
     "data": {
      "text/plain": [
       "int"
      ]
     },
     "execution_count": 21,
     "metadata": {},
     "output_type": "execute_result"
    }
   ],
   "source": [
    "type(1)"
   ]
  },
  {
   "cell_type": "code",
   "execution_count": 22,
   "id": "744c8f16",
   "metadata": {},
   "outputs": [
    {
     "data": {
      "text/plain": [
       "float"
      ]
     },
     "execution_count": 22,
     "metadata": {},
     "output_type": "execute_result"
    }
   ],
   "source": [
    "type(1.1)"
   ]
  },
  {
   "cell_type": "code",
   "execution_count": 23,
   "id": "a12623d0",
   "metadata": {},
   "outputs": [
    {
     "data": {
      "text/plain": [
       "complex"
      ]
     },
     "execution_count": 23,
     "metadata": {},
     "output_type": "execute_result"
    }
   ],
   "source": [
    "type(1+1J)"
   ]
  },
  {
   "cell_type": "code",
   "execution_count": 28,
   "id": "15685493",
   "metadata": {},
   "outputs": [],
   "source": [
    "type?"
   ]
  },
  {
   "cell_type": "markdown",
   "id": "35396c62",
   "metadata": {},
   "source": [
    "**Exercise.** Multiply $1+i$ by its conjugate\n"
   ]
  },
  {
   "cell_type": "markdown",
   "id": "f3ee41da",
   "metadata": {},
   "source": [
    "**Exercise.** Find the power of two of $1+i$"
   ]
  },
  {
   "cell_type": "markdown",
   "id": "31715229",
   "metadata": {},
   "source": [
    "**Exercise.** Find th power of three of $1+i$ "
   ]
  },
  {
   "cell_type": "code",
   "execution_count": null,
   "id": "5940bddf",
   "metadata": {},
   "outputs": [],
   "source": []
  },
  {
   "cell_type": "code",
   "execution_count": null,
   "id": "3e18d3c6",
   "metadata": {},
   "outputs": [],
   "source": []
  },
  {
   "cell_type": "markdown",
   "id": "2d4334cd",
   "metadata": {},
   "source": [
    "- - - \n",
    "# Variables\n",
    "### Content\n",
    "* *Variables: int, float, complex *\n",
    "- - -"
   ]
  },
  {
   "cell_type": "code",
   "execution_count": 1,
   "id": "7e649e4f",
   "metadata": {},
   "outputs": [],
   "source": [
    "a = 3 # int (integer)"
   ]
  },
  {
   "cell_type": "code",
   "execution_count": 5,
   "id": "0bd73360",
   "metadata": {},
   "outputs": [
    {
     "data": {
      "text/plain": [
       "int"
      ]
     },
     "execution_count": 5,
     "metadata": {},
     "output_type": "execute_result"
    }
   ],
   "source": [
    "type(a)"
   ]
  },
  {
   "cell_type": "code",
   "execution_count": 2,
   "id": "f2a1c0a8",
   "metadata": {},
   "outputs": [],
   "source": [
    "b = 17.5 # float"
   ]
  },
  {
   "cell_type": "code",
   "execution_count": 3,
   "id": "947a7f98",
   "metadata": {},
   "outputs": [],
   "source": [
    "c = 1+3J # complex"
   ]
  },
  {
   "cell_type": "markdown",
   "id": "967517b6",
   "metadata": {},
   "source": [
    "**function** `print( )`"
   ]
  },
  {
   "cell_type": "code",
   "execution_count": 6,
   "id": "63182271",
   "metadata": {},
   "outputs": [
    {
     "name": "stdout",
     "output_type": "stream",
     "text": [
      "20.5\n"
     ]
    }
   ],
   "source": [
    "print(a+b)"
   ]
  },
  {
   "cell_type": "code",
   "execution_count": 8,
   "id": "e7f62c99",
   "metadata": {},
   "outputs": [
    {
     "data": {
      "text/plain": [
       "float"
      ]
     },
     "execution_count": 8,
     "metadata": {},
     "output_type": "execute_result"
    }
   ],
   "source": [
    "type(a+b)"
   ]
  },
  {
   "cell_type": "code",
   "execution_count": null,
   "id": "da78639d",
   "metadata": {},
   "outputs": [],
   "source": [
    "print (\"{0}\".format(1/3))"
   ]
  },
  {
   "cell_type": "code",
   "execution_count": null,
   "id": "829eaf85",
   "metadata": {},
   "outputs": [],
   "source": [
    "print (\"{0:.3f}\".format(1/3))"
   ]
  },
  {
   "cell_type": "code",
   "execution_count": null,
   "id": "05ddc8ad",
   "metadata": {},
   "outputs": [],
   "source": [
    "a = 3 "
   ]
  },
  {
   "cell_type": "code",
   "execution_count": null,
   "id": "9f17ad2a",
   "metadata": {},
   "outputs": [],
   "source": [
    "a = -5.5"
   ]
  },
  {
   "cell_type": "code",
   "execution_count": 9,
   "id": "6dfe0e4a",
   "metadata": {},
   "outputs": [
    {
     "name": "stdout",
     "output_type": "stream",
     "text": [
      "3\n"
     ]
    }
   ],
   "source": [
    "print (a)"
   ]
  },
  {
   "cell_type": "code",
   "execution_count": 2,
   "id": "95facad9",
   "metadata": {},
   "outputs": [],
   "source": [
    "# Greek variables\n",
    "π = 3.141592"
   ]
  },
  {
   "cell_type": "code",
   "execution_count": 13,
   "id": "17711867",
   "metadata": {},
   "outputs": [
    {
     "name": "stdout",
     "output_type": "stream",
     "text": [
      "3.141592\n"
     ]
    }
   ],
   "source": [
    "print (π)"
   ]
  },
  {
   "cell_type": "markdown",
   "id": "77f3bf09",
   "metadata": {},
   "source": [
    "**Exercise** Compute the volume of a cube of ℓ=3.141592 and save it in a variable called v. Print ν with two decimal numbers"
   ]
  },
  {
   "cell_type": "code",
   "execution_count": null,
   "id": "775d86ca",
   "metadata": {},
   "outputs": [],
   "source": []
  },
  {
   "cell_type": "markdown",
   "id": "86b6db4e",
   "metadata": {},
   "source": [
    "- - - \n",
    "# Lists\n",
    "### Contet\n",
    "* *list *\n",
    "\n",
    "- - -"
   ]
  },
  {
   "cell_type": "markdown",
   "id": "3a673397",
   "metadata": {},
   "source": [
    "**Asigning values**"
   ]
  },
  {
   "cell_type": "code",
   "execution_count": null,
   "id": "5f3c2d95",
   "metadata": {},
   "outputs": [],
   "source": [
    "l = [3 ,4, 6]"
   ]
  },
  {
   "cell_type": "code",
   "execution_count": null,
   "id": "4281bf81",
   "metadata": {},
   "outputs": [],
   "source": [
    "l = [3.5, -1, \"hola\", [1.0,2.0], 1+1J]"
   ]
  },
  {
   "cell_type": "code",
   "execution_count": null,
   "id": "1a2a8f9d",
   "metadata": {},
   "outputs": [],
   "source": [
    "print (l)"
   ]
  },
  {
   "cell_type": "markdown",
   "id": "228d8af3",
   "metadata": {},
   "source": [
    "**Select the element of a list using the index of the element**"
   ]
  },
  {
   "cell_type": "code",
   "execution_count": 1,
   "id": "50d3b26b",
   "metadata": {},
   "outputs": [
    {
     "name": "stdout",
     "output_type": "stream",
     "text": [
      "1\n"
     ]
    }
   ],
   "source": [
    "l = [1, 2, 3]\n",
    "print (l[0])"
   ]
  },
  {
   "cell_type": "code",
   "execution_count": 2,
   "id": "a4b3eb62",
   "metadata": {},
   "outputs": [
    {
     "name": "stdout",
     "output_type": "stream",
     "text": [
      "1 2\n"
     ]
    }
   ],
   "source": [
    "print (l[0], l[1])"
   ]
  },
  {
   "cell_type": "markdown",
   "id": "889a7034",
   "metadata": {},
   "source": [
    "**Reasign the value of an element into a list **"
   ]
  },
  {
   "cell_type": "code",
   "execution_count": null,
   "id": "91236505",
   "metadata": {},
   "outputs": [],
   "source": [
    "l[0] = 5"
   ]
  },
  {
   "cell_type": "code",
   "execution_count": null,
   "id": "1df3acc2",
   "metadata": {},
   "outputs": [],
   "source": [
    "l"
   ]
  },
  {
   "cell_type": "markdown",
   "id": "1d32b29c",
   "metadata": {},
   "source": [
    "**Select more than 1 element of the list*"
   ]
  },
  {
   "cell_type": "code",
   "execution_count": 6,
   "id": "e5b830fa",
   "metadata": {},
   "outputs": [],
   "source": [
    "l = [1, 2, 3, 6, 7]"
   ]
  },
  {
   "cell_type": "code",
   "execution_count": 7,
   "id": "a1f2a4db",
   "metadata": {},
   "outputs": [
    {
     "data": {
      "text/plain": [
       "[2, 3]"
      ]
     },
     "execution_count": 7,
     "metadata": {},
     "output_type": "execute_result"
    }
   ],
   "source": [
    "l[1:3]"
   ]
  },
  {
   "cell_type": "code",
   "execution_count": 8,
   "id": "d09efe33",
   "metadata": {},
   "outputs": [
    {
     "data": {
      "text/plain": [
       "[1, 2, 3]"
      ]
     },
     "execution_count": 8,
     "metadata": {},
     "output_type": "execute_result"
    }
   ],
   "source": [
    "l[:3]"
   ]
  },
  {
   "cell_type": "code",
   "execution_count": 9,
   "id": "173c3bcb",
   "metadata": {},
   "outputs": [
    {
     "data": {
      "text/plain": [
       "[6, 7]"
      ]
     },
     "execution_count": 9,
     "metadata": {},
     "output_type": "execute_result"
    }
   ],
   "source": [
    "l[3:]"
   ]
  },
  {
   "cell_type": "markdown",
   "id": "5084c0d3",
   "metadata": {},
   "source": [
    "** Exercise.** what does `l[-1]` do?"
   ]
  },
  {
   "cell_type": "markdown",
   "id": "d7eda6f7",
   "metadata": {},
   "source": [
    "**function** `len( )`"
   ]
  },
  {
   "cell_type": "code",
   "execution_count": 10,
   "id": "c27b30a0",
   "metadata": {},
   "outputs": [
    {
     "data": {
      "text/plain": [
       "5"
      ]
     },
     "execution_count": 10,
     "metadata": {},
     "output_type": "execute_result"
    }
   ],
   "source": [
    "len(l)"
   ]
  },
  {
   "cell_type": "markdown",
   "id": "95ac2f2f",
   "metadata": {},
   "source": [
    "**Empty list and appending elements into a list**"
   ]
  },
  {
   "cell_type": "markdown",
   "id": "1b2d50e1",
   "metadata": {},
   "source": [
    "**function** `append( )`"
   ]
  },
  {
   "cell_type": "code",
   "execution_count": 12,
   "id": "9182db61",
   "metadata": {},
   "outputs": [],
   "source": [
    "l.append(17)\n",
    "l.append(3)"
   ]
  },
  {
   "cell_type": "code",
   "execution_count": 13,
   "id": "fd660320",
   "metadata": {},
   "outputs": [
    {
     "name": "stdout",
     "output_type": "stream",
     "text": [
      "[1, 2, 3, 6, 7, 17, 3] 7\n"
     ]
    }
   ],
   "source": [
    "print (l,len(l))"
   ]
  },
  {
   "cell_type": "markdown",
   "id": "9bd53596",
   "metadata": {},
   "source": [
    "**Exercise** Get the sum of the first element of the list with the last one.\n",
    "\n",
    "`l=[10,9,8,7,6,5,4,3,2,1]`"
   ]
  },
  {
   "cell_type": "markdown",
   "id": "d4cb61a9",
   "metadata": {},
   "source": [
    "---"
   ]
  },
  {
   "cell_type": "markdown",
   "id": "f5f04ce0",
   "metadata": {},
   "source": [
    "- - - \n",
    "# Control Structures\n",
    "### Content\n",
    "* *if *\n",
    "* *for *\n",
    "* *while *\n",
    "- - -"
   ]
  },
  {
   "cell_type": "markdown",
   "id": "7c7f24d5",
   "metadata": {},
   "source": [
    "## if (condition)"
   ]
  },
  {
   "cell_type": "code",
   "execution_count": 1,
   "id": "e5ecfaf4",
   "metadata": {},
   "outputs": [
    {
     "name": "stdout",
     "output_type": "stream",
     "text": [
      "The value is smaller than  10.\n"
     ]
    }
   ],
   "source": [
    "a=10\n",
    "if(a>10):\n",
    "    print(\"The value is greater than 10.\")\n",
    "else :\n",
    "    print(\"The value is smaller than  10.\")"
   ]
  },
  {
   "cell_type": "code",
   "execution_count": 2,
   "id": "c6cac238",
   "metadata": {},
   "outputs": [
    {
     "name": "stdout",
     "output_type": "stream",
     "text": [
      "x is False or y ir False or  x as well as y are False\n",
      "\n",
      "x is True or y is True or x as well as y are True\n"
     ]
    }
   ],
   "source": [
    "x = False\n",
    "y = True\n",
    "\n",
    "if x and y:\n",
    "    print(' x as well as y are True')\n",
    "else:\n",
    "    print('x is False or y ir False or  x as well as y are False')\n",
    "print ()\n",
    "if x or y:\n",
    "    print('x is True or y is True or x as well as y are True')\n",
    "else:\n",
    "    print(' x as well as  y are False')"
   ]
  },
  {
   "cell_type": "markdown",
   "id": "92837e1a",
   "metadata": {},
   "source": [
    "**Exercise** Making use of  `if` write the absolute value of a variable \"a\"."
   ]
  },
  {
   "cell_type": "markdown",
   "id": "884a4312",
   "metadata": {},
   "source": [
    "--- "
   ]
  },
  {
   "cell_type": "markdown",
   "id": "ad016454",
   "metadata": {},
   "source": [
    "## for (iteration over lists)"
   ]
  },
  {
   "cell_type": "code",
   "execution_count": 4,
   "id": "46038fc0",
   "metadata": {},
   "outputs": [],
   "source": [
    "colors = [\"Red\", \"Blue\", \"Green\", \"Black\"]"
   ]
  },
  {
   "cell_type": "code",
   "execution_count": 5,
   "id": "25b70808",
   "metadata": {},
   "outputs": [
    {
     "name": "stdout",
     "output_type": "stream",
     "text": [
      "Red\n",
      "Blue\n",
      "Green\n",
      "Black\n"
     ]
    }
   ],
   "source": [
    "for c in colors:\n",
    "    print (c)"
   ]
  },
  {
   "cell_type": "markdown",
   "id": "f2d97655",
   "metadata": {},
   "source": [
    "**function** `range( )`"
   ]
  },
  {
   "cell_type": "code",
   "execution_count": 20,
   "id": "31842afc",
   "metadata": {},
   "outputs": [
    {
     "data": {
      "text/plain": [
       "range(0, 4)"
      ]
     },
     "execution_count": 20,
     "metadata": {},
     "output_type": "execute_result"
    }
   ],
   "source": [
    "range(4)"
   ]
  },
  {
   "cell_type": "code",
   "execution_count": 21,
   "id": "dcf7b67b",
   "metadata": {},
   "outputs": [
    {
     "name": "stdout",
     "output_type": "stream",
     "text": [
      "0\n",
      "1\n",
      "2\n",
      "3\n"
     ]
    }
   ],
   "source": [
    "for a in range(4):\n",
    "    print (a)"
   ]
  },
  {
   "cell_type": "code",
   "execution_count": 22,
   "id": "b07ed5c4",
   "metadata": {},
   "outputs": [
    {
     "name": "stdout",
     "output_type": "stream",
     "text": [
      "2\n",
      "3\n",
      "4\n",
      "5\n",
      "6\n"
     ]
    }
   ],
   "source": [
    "for a in range(2,7):\n",
    "    print(a)"
   ]
  },
  {
   "cell_type": "code",
   "execution_count": 23,
   "id": "582e8b24",
   "metadata": {},
   "outputs": [
    {
     "name": "stdout",
     "output_type": "stream",
     "text": [
      "2\n",
      "7\n",
      "12\n",
      "17\n"
     ]
    }
   ],
   "source": [
    "for a in range(2,19,5):\n",
    "    print(a)"
   ]
  },
  {
   "cell_type": "markdown",
   "id": "dcf41a00",
   "metadata": {},
   "source": [
    "**Write in latex using** `$   $`\n",
    "\n",
    "$\\int e^x dx$"
   ]
  },
  {
   "cell_type": "markdown",
   "id": "519fb4f4",
   "metadata": {},
   "source": [
    "**Exercise** Find the first 3 numbers of Fibonacci.\n",
    "\n",
    "$f_0=0,\\quad f_1=1,\\quad f_n = f_{n-1}+f_{n-2}$"
   ]
  },
  {
   "cell_type": "code",
   "execution_count": null,
   "id": "8f019d8a",
   "metadata": {},
   "outputs": [],
   "source": []
  },
  {
   "cell_type": "markdown",
   "id": "2dfcd861",
   "metadata": {},
   "source": [
    "**Ejercicio** Find the first 100 numbers of Fibonacci.\n",
    "\n",
    "$f_0=0,\\quad f_1=1,\\quad f_n = f_{n-1}+f_{n-2}$"
   ]
  },
  {
   "cell_type": "code",
   "execution_count": null,
   "id": "e7a9a6c7",
   "metadata": {},
   "outputs": [],
   "source": []
  },
  {
   "cell_type": "markdown",
   "id": "e62c38cb",
   "metadata": {},
   "source": [
    "---"
   ]
  },
  {
   "cell_type": "markdown",
   "id": "42da22aa",
   "metadata": {},
   "source": [
    "## while (loop until a condition is satisfied)"
   ]
  },
  {
   "cell_type": "code",
   "execution_count": null,
   "id": "4828e30a",
   "metadata": {},
   "outputs": [],
   "source": [
    "i = 0\n",
    "while i<10:\n",
    "    i += 1\n",
    "    print (i)"
   ]
  },
  {
   "cell_type": "markdown",
   "id": "064d7c94",
   "metadata": {},
   "source": [
    "**WARNING!** Your computer can be broken if you don't put a condition to end the loop"
   ]
  },
  {
   "cell_type": "code",
   "execution_count": 27,
   "id": "5ecd0946",
   "metadata": {},
   "outputs": [
    {
     "name": "stdout",
     "output_type": "stream",
     "text": [
      "1\n",
      "2\n",
      "3\n",
      "4\n",
      "5\n",
      "6\n",
      "7\n",
      "8\n",
      "9\n",
      "10\n"
     ]
    }
   ],
   "source": [
    "i = 0\n",
    "while i<10:\n",
    "    i +=1\n",
    "    print (i)"
   ]
  },
  {
   "cell_type": "markdown",
   "id": "bd988b3a",
   "metadata": {},
   "source": [
    "**Exercise** Find the Fibonacci numbers smaller than 100.\n",
    "\n",
    "$f_0=0,\\quad f_1=1,\\quad f_n = f_{n-1}+f_{n-2}$"
   ]
  },
  {
   "cell_type": "code",
   "execution_count": null,
   "id": "eda3e0f9",
   "metadata": {},
   "outputs": [],
   "source": []
  },
  {
   "cell_type": "markdown",
   "id": "ca1d029b",
   "metadata": {},
   "source": [
    "**Exercise**  Implement the  babilonic methodtho calculate th root square of a given number $y$ This method is the iteration of $x_{n+1}=\\frac{1}{2}\\big[x_n + y/x_n \\big]$. How long does it take to converge?"
   ]
  },
  {
   "cell_type": "code",
   "execution_count": null,
   "id": "d24278e7",
   "metadata": {},
   "outputs": [],
   "source": []
  },
  {
   "cell_type": "markdown",
   "id": "91799c7e",
   "metadata": {},
   "source": [
    "If you want to learn more about python programming, you can consult  [Python Programming And Numerical Methods: A Guide For Engineers And Scientists](https://pythonnumericalmethods.berkeley.edu/notebooks/Index.html)"
   ]
  },
  {
   "cell_type": "markdown",
   "id": "b1cb5cdc",
   "metadata": {},
   "source": []
  }
 ],
 "metadata": {
  "kernelspec": {
   "display_name": "Python 3",
   "language": "python",
   "name": "python3"
  },
  "language_info": {
   "codemirror_mode": {
    "name": "ipython",
    "version": 3
   },
   "file_extension": ".py",
   "mimetype": "text/x-python",
   "name": "python",
   "nbconvert_exporter": "python",
   "pygments_lexer": "ipython3",
   "version": "3.8.8"
  }
 },
 "nbformat": 4,
 "nbformat_minor": 5
}
