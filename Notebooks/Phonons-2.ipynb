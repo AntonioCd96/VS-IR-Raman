{
 "cells": [
  {
   "cell_type": "code",
   "execution_count": null,
   "id": "556d4bbb-58c1-455b-be42-713631d42ccf",
   "metadata": {},
   "outputs": [],
   "source": [
    "pip install mp-api"
   ]
  },
  {
   "cell_type": "code",
   "execution_count": null,
   "id": "1f6d85b0-a439-43db-9e04-5df04d944ed3",
   "metadata": {},
   "outputs": [],
   "source": [
    "pip install mpcontribs-client"
   ]
  },
  {
   "cell_type": "code",
   "execution_count": null,
   "id": "d8666d2d-ab8a-4649-8c61-f557a1480aee",
   "metadata": {},
   "outputs": [],
   "source": [
    "pip install crystal-toolkit --upgrade"
   ]
  },
  {
   "cell_type": "code",
   "execution_count": null,
   "id": "86886eb2-21fb-4b2e-9b59-e4df038aa6f4",
   "metadata": {},
   "outputs": [],
   "source": [
    "pip install dash"
   ]
  },
  {
   "cell_type": "markdown",
   "id": "25bf1445-371b-47e5-bb9d-6185552f4ded",
   "metadata": {},
   "source": [
    "http://henriquemiranda.github.io/phononwebsite/phonon.html?rest=https://materialsproject.org/rest/v2/materials/mp-66/phononbs&name=C&link=https://materialsproject.org/materials/mp-66&hidematlist=true"
   ]
  },
  {
   "cell_type": "code",
   "execution_count": null,
   "id": "17bf5968-ec45-4b52-bab8-14eda82f818e",
   "metadata": {},
   "outputs": [],
   "source": [
    "from mp_api.client import MPRester\n",
    "from pylab import *\n",
    "import pandas as pd\n",
    "from emmet.core.summary import HasProps\n",
    "from pymatgen.io.xyz import XYZ\n",
    "import py3Dmol\n",
    "import nglview as nv\n",
    "from nglview import show_structure_file\n",
    "from pymatgen.io.cif import CifWriter"
   ]
  },
  {
   "cell_type": "code",
   "execution_count": null,
   "id": "2e6c5c6d-59f9-4a0c-a62a-17d7e2a9c777",
   "metadata": {},
   "outputs": [],
   "source": [
    "\n",
    "material_id = \"mp-996941\"\n",
    "API_key= \"A55hSVu7NuwvlISilTvVtw37IB5ES26w\"\n",
    "\n",
    "with MPRester(API_key) as mpr:\n",
    "    docs = mpr.summary.search(\n",
    "        has_props = [HasProps.phonon], fields=[\"material_id\", \"formula_pretty\",\"elements\", \"composition\"]\n",
    "    )\n",
    "    mpids = [doc.material_id for doc in docs]\n",
    "    mpformulas = [doc.formula_pretty for doc in docs]\n",
    "    mpcomposition = [doc.composition for doc in docs]\n",
    "data = {\"mp ID\": mpids, \"Formula\": mpformulas }\n",
    "df_data = pd.DataFrame(data)\n",
    "df_data\n",
    "\n",
    "\n",
    "with MPRester(API_key) as mpr:\n",
    "    ph_bs     = mpr.get_phonon_bandstructure_by_material_id(material_id)\n",
    "    ph_dos    = mpr.get_phonon_dos_by_material_id(material_id)\n",
    "    structure = mpr.get_structure_by_material_id(material_id)\n",
    "\n",
    "\n",
    "\n",
    "position=[]\n",
    "label= []\n",
    "lines= []\n",
    "\n",
    "for i in ph_bs.as_phononwebsite()[\"line_breaks\"]:\n",
    "    lines.append(i[0])\n",
    "\n",
    "\n",
    "for i in ph_bs.as_phononwebsite()[\"highsym_qpts\"]:\n",
    "    position.append(i[0])\n",
    "    label.append(\"$\"+i[1]+ \"$\")\n",
    "\n",
    "\n",
    "fig,ax = plt.subplots(ncols=2,nrows=1,figsize=(15,7),\n",
    "                           gridspec_kw = {'wspace':0.2, 'hspace':0, 'width_ratios': [2, 1]})\n",
    "ax[0].plot(ph_bs.as_phononwebsite()[\"eigenvalues\"]);\n",
    "density_points =len(ph_dos.as_dict()[\"densities\"])\n",
    "ax[0].set_ylim(0, (density_points));\n",
    "ax[0].set_xlim(0, max(position ))\n",
    "ax[0].set_xticks(position, label);\n",
    "\n",
    "for i in lines:\n",
    "    ax[0].axvline(i-1, c= \"black\")\n",
    "\n",
    "ax[1].plot(ph_dos.as_dict()[\"densities\"],arange(density_points))\n",
    "ax[1].set_ylim(0, (density_points));\n",
    "ax[1].set_xlim(0)\n",
    "\n",
    "cif_filename = \"material_structure_{0}.cif\".format(material_id)  # Name of the output CIF file\n",
    "\n",
    "cif_writer = CifWriter(structure)\n",
    "cif_writer.write_file(cif_filename)\n",
    "struct_file = nv.FileStructure(cif_filename)\n",
    "view        = nv.show_file(struct_file)\n",
    "view._remote_call(\"setSize\", args=[\"\",\"600px\"])\n",
    "view.camera = \"orthographic\"\n",
    "view.add_unitcell()\n",
    "view"
   ]
  },
  {
   "cell_type": "code",
   "execution_count": null,
   "id": "ebe39973-d3fc-4092-925f-b190b4978144",
   "metadata": {},
   "outputs": [],
   "source": [
    "docs"
   ]
  },
  {
   "cell_type": "code",
   "execution_count": null,
   "id": "95526e55-ec96-43ec-a9e2-dabb0e266f80",
   "metadata": {},
   "outputs": [],
   "source": [
    "import json\n",
    "\n",
    "# Sample dictionary\n",
    "data = ph_bs.as_phononwebsite()\n",
    "\n",
    "# Define the output JSON file name\n",
    "output_filename = \"data_{0}.json\".format(material_id)\n",
    "\n",
    "# Convert the dictionary to JSON and write to the file\n",
    "with open(output_filename, \"w\") as json_file:\n",
    "    json.dump(data, json_file, indent=4)\n",
    "\n",
    "print(f\"Dictionary has been converted and saved to {output_filename}\")\n"
   ]
  },
  {
   "cell_type": "code",
   "execution_count": null,
   "id": "a118066d-edcd-478f-90a4-0971feb32c99",
   "metadata": {},
   "outputs": [],
   "source": [
    "type()"
   ]
  },
  {
   "cell_type": "code",
   "execution_count": null,
   "id": "2a58b273-632c-4329-b2e2-4413c1a2ee27",
   "metadata": {},
   "outputs": [],
   "source": []
  },
  {
   "cell_type": "code",
   "execution_count": null,
   "id": "7e166a80-84ae-4ea4-8ecf-c3bd22753aa4",
   "metadata": {},
   "outputs": [],
   "source": []
  },
  {
   "cell_type": "markdown",
   "id": "38778f32-082d-4b8e-ae6e-e38d7e1567cb",
   "metadata": {},
   "source": [
    "# Working do not move"
   ]
  },
  {
   "cell_type": "code",
   "execution_count": 1,
   "id": "164a031f-1cc6-4dbc-93a8-56b5cc87d707",
   "metadata": {},
   "outputs": [
    {
     "data": {
      "application/vnd.jupyter.widget-view+json": {
       "model_id": "bc1a6f3f52db42428c133e5de6386141",
       "version_major": 2,
       "version_minor": 0
      },
      "text/plain": []
     },
     "metadata": {},
     "output_type": "display_data"
    },
    {
     "data": {
      "application/vnd.jupyter.widget-view+json": {
       "model_id": "caaa01754609402db3886eb44d1a9f69",
       "version_major": 2,
       "version_minor": 0
      },
      "text/plain": [
       "Retrieving SummaryDoc documents:   0%|          | 0/1507 [00:00<?, ?it/s]"
      ]
     },
     "metadata": {},
     "output_type": "display_data"
    },
    {
     "data": {
      "application/vnd.jupyter.widget-view+json": {
       "model_id": "6efde33fc66d4f6d962b5c3ef7f2533d",
       "version_major": 2,
       "version_minor": 0
      },
      "text/plain": [
       "interactive(children=(Dropdown(description='Materials available', options=('Ag2GeS3', 'Ag2HgI4', 'Ag2HgSI2', '…"
      ]
     },
     "metadata": {},
     "output_type": "display_data"
    }
   ],
   "source": [
    "from ipywidgets import interact, Dropdown\n",
    "import numpy as np\n",
    "from pymatgen.io.cif import CifWriter\n",
    "import nglview as nv\n",
    "import pandas as pd\n",
    "from pymatgen.ext.matproj import MPRester\n",
    "from mp_api.client import MPRester\n",
    "from pylab import *\n",
    "import pandas as pd\n",
    "from emmet.core.summary import HasProps\n",
    "\n",
    "from nglview import show_structure_file\n",
    "from pymatgen.io.cif import CifWriter\n",
    "\n",
    "API_key= \"A55hSVu7NuwvlISilTvVtw37IB5ES26w\"\n",
    "\n",
    "with MPRester(API_key) as mpr:\n",
    "    docs = mpr.summary.search(\n",
    "        has_props = [HasProps.phonon], fields=[\"material_id\", \"formula_pretty\",\"elements\", \"composition\"]\n",
    "    )\n",
    "    mpids = [doc.material_id for doc in docs]\n",
    "    mpformulas = [doc.formula_pretty for doc in docs]\n",
    "    mpcomposition = [doc.composition for doc in docs]\n",
    "    \n",
    "\n",
    "data = {\"mp ID\": mpids, \"Formula\": mpformulas}\n",
    "df_data = pd.DataFrame(data)\n",
    "\n",
    "d_look_up      = { mpformulas[i]:mpids[i] for i in range(len(mpformulas))}\n",
    "d_look_up_comp = { mpformulas[i]:mpcomposition[i] for i in range(len(mpformulas))}\n",
    "\n",
    "# Interactive function\n",
    "@interact(material=Dropdown(options=sort(df_data[\"Formula\"]), description=\"Materials available\"))\n",
    "def plot_phonon_and_structure(material):\n",
    "    material_id = d_look_up[material][:]\n",
    "    mat_comp    = d_look_up_comp[material]\n",
    "    print(\"The ID of the material is: \", material_id)\n",
    "    print(\"The composition of the material is: \", mat_comp)\n",
    "    with MPRester(API_key) as mpr:\n",
    "        ph_bs = mpr.get_phonon_bandstructure_by_material_id(material_id)\n",
    "        ph_dos = mpr.get_phonon_dos_by_material_id(material_id)\n",
    "        structure = mpr.get_structure_by_material_id(material_id)\n",
    "\n",
    "    position = []\n",
    "    label = []\n",
    "    lines = []\n",
    "\n",
    "    for i in ph_bs.as_phononwebsite()[\"line_breaks\"]:\n",
    "        lines.append(i[0])\n",
    "\n",
    "    for i in ph_bs.as_phononwebsite()[\"highsym_qpts\"]:\n",
    "        position.append(i[0])\n",
    "        label.append(\"$\" + i[1] + \"$\")\n",
    "\n",
    "    \n",
    "    cif_filename = f\"material_structure_{material_id}.cif\"  # Name of the output CIF file\n",
    "\n",
    "    cif_writer = CifWriter(structure)\n",
    "    cif_writer.write_file(cif_filename)\n",
    "    struct_file = nv.FileStructure(cif_filename)\n",
    "    \n",
    "    view = nv.show_file(struct_file)\n",
    "    view._remote_call(\"setSize\", args=[\"\", \"300px\"])\n",
    "    view.camera = \"orthographic\"\n",
    "    view.add_unitcell()\n",
    "    view\n",
    "\n",
    "    \n",
    "    fig, ax = plt.subplots(ncols=2, nrows=1, figsize=(15, 7), gridspec_kw={'wspace': 0.2, 'hspace': 0, 'width_ratios': [2, 1]})\n",
    "    ax[0].plot(ph_bs.as_phononwebsite()[\"eigenvalues\"])\n",
    "    density_points = len(ph_dos.as_dict()[\"densities\"])\n",
    "    ax[0].set_ylim(0, (density_points))\n",
    "    ax[0].set_xlim(0, max(position))\n",
    "    ax[0].set_xticks(position, label)\n",
    "\n",
    "    for i in lines:\n",
    "        ax[0].axvline(i - 1, c=\"black\")\n",
    "\n",
    "    ax[1].plot(ph_dos.as_dict()[\"densities\"], np.arange(density_points))\n",
    "    ax[1].set_ylim(0, (density_points))\n",
    "    ax[1].set_xlim(0)\n",
    "\n",
    "    \n",
    "    ph_ws_filename = \"ph_ws_material_structure_{0}_{1}.json\".format(material_id,material)\n",
    "    ph_bs.write_phononwebsite(ph_ws_filename)\n",
    "    return view"
   ]
  },
  {
   "cell_type": "code",
   "execution_count": null,
   "id": "804e0fcf-4067-4d36-8f3a-f5d847e0bcf0",
   "metadata": {},
   "outputs": [],
   "source": [
    "structure"
   ]
  },
  {
   "cell_type": "markdown",
   "id": "3d64f42c-1116-4503-8f0d-248038ec06df",
   "metadata": {},
   "source": [
    "# IR and raman"
   ]
  },
  {
   "cell_type": "code",
   "execution_count": null,
   "id": "0bac553e-b027-43b3-82cb-5e69160ec9d0",
   "metadata": {},
   "outputs": [],
   "source": [
    "\n",
    "material_id = \"mp-2657\"\n",
    "API_key= \"A55hSVu7NuwvlISilTvVtw37IB5ES26w\"\n",
    "\n",
    "with MPRester(API_key) as mpr:\n",
    "    docs = mpr.summary.search(\n",
    "        has_props = [HasProps.phonon], fields=[\"material_id\", \"formula_pretty\",\"elements\", \"composition\"]\n",
    "    )\n",
    "    mpids = [doc.material_id for doc in docs]\n",
    "    mpformulas = [doc.formula_pretty for doc in docs]\n",
    "    mpcomposition = [doc.composition for doc in docs]\n",
    "data = {\"mp ID\": mpids, \"Formula\": mpformulas }\n",
    "df_data = pd.DataFrame(data)\n",
    "df_data\n",
    "\n",
    "\n",
    "with MPRester(API_key) as mpr:\n",
    "    ph_bs     = mpr.get_phonon_bandstructure_by_material_id(material_id)\n",
    "    ph_bs_r     = mpr.get_phonon_bandstructure_by_material_id(material_id)\n",
    "    ph_dos    = mpr.get_phonon_dos_by_material_id(material_id)\n",
    "    structure = mpr.get_structure_by_material_id(material_id)\n",
    "\n",
    "\n",
    "print(ph_bs.band_reorder())"
   ]
  },
  {
   "cell_type": "code",
   "execution_count": null,
   "id": "5a1974be-221c-4a5d-9939-205569cc5fed",
   "metadata": {},
   "outputs": [],
   "source": [
    "eigenvectors[2,2,5]"
   ]
  },
  {
   "cell_type": "code",
   "execution_count": null,
   "id": "6eb8d95b-07c0-45cf-8b43-1d944c3b3a9c",
   "metadata": {},
   "outputs": [],
   "source": [
    "import numpy as np\n",
    "\n",
    "bands, qpoints, basis, vector = shape(ph_bs.eigendisplacements)\n",
    "# Sample eigenvectors and eigenvalues (replace with your actual data)\n",
    "\n",
    "eigenvectors = ph_bs.eigendisplacements\n",
    "eigenvalues  = ph_bs.bands\n",
    "qpoints_v = ph_bs.as_dict()[\"qpoints\"]\n",
    "\n",
    "\n",
    "\n",
    "# Constants (you might need to adjust these)\n",
    "proportionality_IR = 1.0\n",
    "proportionality_Raman = 1.0\n",
    "\n",
    "# Calculate IR intensities\n",
    "IR_intensities = np.zeros((bands, qpoints))\n",
    "for i in range(bands):\n",
    "    for q in range(qpoints):\n",
    "        for basis_dir in range(basis):\n",
    "            IR_intensities[i, q] += np.abs(np.dot(\n",
    "                eigenvectors[i, q, basis_dir],\n",
    "                qpoints_v[q])  # Replace with actual Cartesian direction vector\n",
    "            ) ** 2\n",
    "\n",
    "# Calculate Raman intensities\n",
    "Raman_intensities = np.zeros((bands, qpoints))\n",
    "for i in range(bands):\n",
    "    # for q in range(qpoints):\n",
    "    for basis_dir_alpha in range(basis):\n",
    "        for basis_dir_beta in range(basis):\n",
    "            Raman_intensities[i, 0] += np.abs(np.dot(\n",
    "                        eigenvectors[i, 0, basis_dir_alpha],\n",
    "                        eigenvectors[i, 0, basis_dir_beta]\n",
    "                    )) ** 2 * proportionality_Raman\n",
    "\n",
    "# Normalize intensities\n",
    "IR_intensities *= proportionality_IR\n",
    "Raman_intensities *= proportionality_Raman\n",
    "\n",
    "# Now you can plot the IR and Raman spectra using your preferred plotting library\n",
    "# (e.g., Matplotlib)\n",
    "# Plot Raman Spectrum\n",
    "plt.figure(figsize=(10, 6))\n",
    "frequencies=eigenvalues\n",
    "IR_total= list(zeros(len(frequencies[0])))\n",
    "Freq_total= list(zeros(len(frequencies[0])))\n",
    "for i in range(bands):\n",
    "    plt.scatter(frequencies[i]*33.356, Raman_intensities[i], label=f'Mode {i+1}')\n",
    "    IR_total+=list(Raman_intensities[i])\n",
    "    Freq_total+=list(frequencies[i]*33.356)\n",
    "\n",
    "plt.xlabel('Frequency (cm$^{-1}$)')\n",
    "plt.ylabel('Intensity')\n",
    "plt.title('Raman Spectrum')\n",
    "plt.legend()\n",
    "plt.grid()\n",
    "plt.show()\n",
    "\n",
    "Freq_0 = list(arange(0,2000,0.1))\n",
    "IR_0   = list(zeros(len(Freq_0)))\n",
    "\n",
    "Freq_total_s = Freq_0 + Freq_total\n",
    "IR_total_s   = IR_0 + IR_total\n",
    "all= []\n",
    "for i in range(len(IR_total_s)):\n",
    "    all.append(tuple((Freq_total_s[i],IR_total_s[i])))\n",
    "\n",
    "all.sort()\n",
    "x= []\n",
    "y= []\n",
    "for i in all:\n",
    "    x.append(round(i[0],1))\n",
    "    y.append(i[1])\n",
    "    "
   ]
  },
  {
   "cell_type": "code",
   "execution_count": null,
   "id": "d46fef5d-5220-42b1-8059-8fe0c778dae8",
   "metadata": {},
   "outputs": [],
   "source": [
    "frequencies = x \n",
    "intensities = y \n",
    "\n",
    "\n",
    "# Crear un diccionario para realizar un seguimiento de las sumas de intensidades por frecuencia\n",
    "frequency_intensity_dict = {}\n",
    "\n",
    "\n",
    "for frequency, intensity in zip(frequencies, intensities):\n",
    "\n",
    "    if frequency in frequency_intensity_dict:\n",
    "        frequency_intensity_dict[frequency] += intensity\n",
    "    else:\n",
    "       \n",
    "        frequency_intensity_dict[frequency] = intensity\n",
    "\n",
    "result_frequencies_TIO2 = list(frequency_intensity_dict.keys())\n",
    "result_intensities_TIO2 = list(frequency_intensity_dict.values())\n",
    "plot(result_frequencies,result_intensities)\n"
   ]
  },
  {
   "cell_type": "code",
   "execution_count": null,
   "id": "b2a811f6-f0cd-49b0-af95-c658899205cb",
   "metadata": {},
   "outputs": [],
   "source": [
    "from scipy.signal import argrelextrema\n",
    "def g(wavenumb_sweep, intensity_max, wavenumber_max, σ):\n",
    "    G = intensity_max / (σ *sqrt(2 * pi)) * exp(-(wavenumb_sweep-wavenumber_max)**2 / (2*σ**2))\n",
    "    new_y=array(G)  \n",
    "    return new_y\n",
    "result_frequencies = list(frequency_intensity_dict.keys())\n",
    "result_intensities = list(frequency_intensity_dict.values())      \n",
    "\n",
    "wavenumb   = result_frequencies\n",
    "max_int    = max(result_intensities)\n",
    "\n",
    "norm_int = []\n",
    "for i in result_intensities:\n",
    "    norm_int.append(i/max_int)\n",
    "\n",
    "### Gausian function to broaden peaks\n",
    "pos_max    = argrelextrema(array(norm_int), np.greater)\n",
    "x          = array(wavenumb)\n",
    "all_curve = 0\n",
    "σ = 20\n",
    "for i in pos_max[0]:\n",
    "    all_curve += g(x, norm_int[i], wavenumb[i],σ)      \n",
    "broad_int = all_curve   \n",
    "\n",
    "### Normalization\n",
    "\n",
    "max_y = max(broad_int)\n",
    "int_norm = []\n",
    "\n",
    "for i in broad_int:\n",
    "    int_norm.append((i/max_y))\n",
    "plot(wavenumb,int_norm)\n",
    "\n"
   ]
  },
  {
   "cell_type": "code",
   "execution_count": null,
   "id": "ded6c2a4-34b6-4dec-8178-3713cb9da759",
   "metadata": {},
   "outputs": [],
   "source": [
    "import curses\n",
    "\n",
    "def main(stdscr):\n",
    "    # Configurar curses\n",
    "    curses.curs_set(0)\n",
    "    stdscr.clear()\n",
    "\n",
    "    # Lista de elementos\n",
    "    elementos = [\"Elemento 1\", \"Elemento 2\", \"Elemento 3\", \"Otro elemento\", \"Ejemplo\"]\n",
    "    \n",
    "    # Crear ventana para la búsqueda\n",
    "    buscar_win = curses.newwin(1, curses.COLS - 2, 0, 1)\n",
    "    buscar_win.addstr(\"Buscar: \")\n",
    "    buscar_win.refresh()\n",
    "\n",
    "    # Crear ventana para mostrar la lista de elementos\n",
    "    lista_win = curses.newwin(curses.LINES - 2, curses.COLS - 2, 1, 1)\n",
    "\n",
    "    # Crear el dropdown\n",
    "    dropdown = curses.newwin(len(elementos), curses.COLS - 2, 2, 1)\n",
    "    dropdown.keypad(True)\n",
    "    curses.noecho()\n",
    "\n",
    "    # Loop principal\n",
    "    while True:\n",
    "        lista_filtrada = [elem for elem in elementos if buscar_win.instr(0, 8).decode().lower() in elem.lower()]\n",
    "        lista_win.clear()\n",
    "        for i, elem in enumerate(lista_filtrada):\n",
    "            lista_win.addstr(i, 0, elem)\n",
    "        lista_win.refresh()\n",
    "\n",
    "        ch = dropdown.getch()\n",
    "        if ch == ord('q'):\n",
    "            break\n",
    "\n",
    "        if ch == curses.KEY_DOWN:\n",
    "            dropdown.move(1, 0)\n",
    "        elif ch == curses.KEY_UP:\n",
    "            dropdown.move(-1, 0)\n",
    "\n",
    "if __name__ == \"__main__\":\n",
    "    curses.wrapper(main)\n",
    "\n"
   ]
  },
  {
   "cell_type": "code",
   "execution_count": null,
   "id": "7117d384-31ad-4853-a0cd-15185e48bed6",
   "metadata": {},
   "outputs": [],
   "source": [
    "\n",
    "freq_dft = [1.129780207231549269e+02 , 1.129780207231552680e+02 ,1.749879864729470853e+02 ,1.749879864729474264e+02 ,3.611532269867757350e+02 ,4.793102600546089320e+02 ,4.957302896450344178e+02 ,6.001592985713667758e+02 ,6.001592985713667758e+02] \n",
    "int_dft = [1.000000000000000000e+00,9.999999999999938938e-01,2.939221091892205324e-03,2.939221091892158921e-03,1.494269659327405464e-01,1.890540997545240437e-02,1.019312927046264333e-01,1.445200115409593922e-01,1.445200115409594477e-01]\n",
    "\n",
    "def Gaus_norm( list_freq,list_int, sigma):\n",
    "    ### Gausian function to broaden peaks\n",
    "    int_dft_m      = list_int + list(zeros(len(wavenumb)))\n",
    "    x_dft          = list_freq + wavenumb\n",
    "    \n",
    "    all= []\n",
    "    for i in range(len(int_dft_m )):\n",
    "        all.append(tuple((x_dft[i],int_dft_m[i])))\n",
    "    \n",
    "    all.sort()\n",
    "    x= []\n",
    "    y= []\n",
    "    for i in all:\n",
    "        x.append(round(i[0],1))\n",
    "        y.append(i[1])\n",
    "    \n",
    "    frequencies = x\n",
    "    intensities = y\n",
    "    \n",
    "    # Crear un diccionario para realizar un seguimiento de las sumas de intensidades por frecuencia\n",
    "    frequency_intensity_dict = {}\n",
    "    \n",
    "    for frequency, intensity in zip(frequencies, intensities):\n",
    "    \n",
    "        if frequency in frequency_intensity_dict:\n",
    "            frequency_intensity_dict[frequency] += intensity\n",
    "        else:\n",
    "           \n",
    "            frequency_intensity_dict[frequency] = intensity\n",
    "    \n",
    "    result_frequencies_dft = list(frequency_intensity_dict.keys())\n",
    "    result_intensities_dft = list(frequency_intensity_dict.values())    \n",
    "    \n",
    "    \n",
    "    wavenumb_dft   = result_frequencies_dft\n",
    "    max_int    = max(result_intensities_dft)\n",
    "    \n",
    "    norm_int = []\n",
    "    for i in result_intensities_dft:\n",
    "        norm_int.append(i/max_int)\n",
    "    \n",
    "    ### Gausian function to broaden peaks\n",
    "    pos_max    = argrelextrema(array(norm_int), np.greater)\n",
    "    \n",
    "    x          = array(wavenumb)\n",
    "    \n",
    "    all_curve = 0\n",
    "    σ = sigma\n",
    "    for i in pos_max[0]:\n",
    "        all_curve += g(x, norm_int[i], wavenumb[i],σ)      \n",
    "    broad_int = all_curve   \n",
    "    \n",
    "    ### Normalization\n",
    "    \n",
    "    max_y = max(broad_int)\n",
    "    int_norm_dft = []\n",
    "    \n",
    "    for i in broad_int:\n",
    "        int_norm_dft.append((i/max_y))\n",
    "    return wavenumb, int_norm_dft, result_intensities_dft\n",
    "\n"
   ]
  },
  {
   "cell_type": "code",
   "execution_count": null,
   "id": "651c9e4c-dd6b-416c-b4a3-08bd9aec07de",
   "metadata": {},
   "outputs": [],
   "source": [
    "# plot(result_frequencies, int_norm, label= \"from Phonon Disp\")\n",
    "xlim(0,1000)\n",
    "df2=RRUFF_text(\"anastase_532_exp.txt\")._read_file()\n",
    "plot(df2[\"wavenumbers\"], df2[\"intensities_normalized\"], label=\"Exp Anatase 532 nm\")\n",
    "\n",
    "freq_dft = [1.129780207231549269e+02 , 1.129780207231552680e+02 ,1.749879864729470853e+02 ,1.749879864729474264e+02 ,3.611532269867757350e+02 ,4.793102600546089320e+02 ,4.957302896450344178e+02 ,6.001592985713667758e+02 ,6.001592985713667758e+02] \n",
    "int_dft = [1.000000000000000000e+00,9.999999999999938938e-01,2.939221091892205324e-03,2.939221091892158921e-03,1.494269659327405464e-01,1.890540997545240437e-02,1.019312927046264333e-01,1.445200115409593922e-01,1.445200115409594477e-01]\n",
    "freq_gn, int_gn = Gaus_norm(freq_dft,int_dft,20)\n",
    "\n",
    "plot(freq_gn, int_gn, label= \"DFT-Lorenzo\")\n",
    "\n",
    "# plot(df[\"Frequency\"],df[\"Norm\"], label=\"Exp Anatase\")\n",
    "xlabel(r\"$Frequency[cm^{-1}]$\")\n",
    "ylabel(\"Intensity\")\n",
    "legend()"
   ]
  },
  {
   "cell_type": "code",
   "execution_count": null,
   "id": "8bf6c647-c5e0-48d0-a6f3-d9d336ea9cec",
   "metadata": {},
   "outputs": [],
   "source": []
  },
  {
   "cell_type": "markdown",
   "id": "0ed7b603-ac81-4f87-a4dc-aa75e6c15f15",
   "metadata": {},
   "source": [
    "## Import RRUFF exp data"
   ]
  },
  {
   "cell_type": "code",
   "execution_count": null,
   "id": "fdb0088e-9330-4f57-8f75-782f02b19103",
   "metadata": {},
   "outputs": [],
   "source": [
    "from txt_raman_reader import RRUFF_text"
   ]
  },
  {
   "cell_type": "code",
   "execution_count": null,
   "id": "278faf3e-0f60-4a41-857d-7cc6c8663db4",
   "metadata": {},
   "outputs": [],
   "source": [
    "df=RRUFF_text(\"anastase_532_exp.txt\")._read_file()"
   ]
  },
  {
   "cell_type": "code",
   "execution_count": null,
   "id": "8b343d77-1743-4ddd-8f74-672ce0549a67",
   "metadata": {},
   "outputs": [],
   "source": [
    "import pandas as pd"
   ]
  },
  {
   "cell_type": "code",
   "execution_count": null,
   "id": "a5afba52-c952-41bb-84cb-52b77dea0ef9",
   "metadata": {},
   "outputs": [],
   "source": [
    "import functools"
   ]
  },
  {
   "cell_type": "code",
   "execution_count": null,
   "id": "0a834993-8b6d-467e-9bf1-64c1aa77b2d4",
   "metadata": {},
   "outputs": [],
   "source": [
    "\n",
    "# read by default 1st sheet of an excel file\n",
    "df = pd.read_excel('anatase_exp.xlsx')\n",
    " \n",
    "print(df)"
   ]
  },
  {
   "cell_type": "code",
   "execution_count": null,
   "id": "94509805-469e-4ccf-9902-dd5aec377f6e",
   "metadata": {},
   "outputs": [],
   "source": [
    "plot(float(array(df[\"Frequency\"])),df[\"Norm\"])"
   ]
  },
  {
   "cell_type": "code",
   "execution_count": null,
   "id": "69894bb5-9937-48fc-ba74-e9daf3e93455",
   "metadata": {},
   "outputs": [],
   "source": [
    "freq=[]\n",
    "for i in df[\"Frequency\"]:\n",
    "    freq.append(float(i))\n"
   ]
  },
  {
   "cell_type": "markdown",
   "id": "6fbc5f68-4613-4297-8688-bb21f6817e23",
   "metadata": {},
   "source": [
    "# Using DATABASE"
   ]
  },
  {
   "cell_type": "code",
   "execution_count": null,
   "id": "29c374d2-e073-44ae-9245-67c1c7dc2a44",
   "metadata": {},
   "outputs": [],
   "source": [
    "from pylab import *"
   ]
  },
  {
   "cell_type": "code",
   "execution_count": 2,
   "id": "0dffc8a8-92db-4bec-aff2-54d82d748e78",
   "metadata": {},
   "outputs": [],
   "source": [
    "import json\n",
    " \n",
    "# Opening JSON file\n",
    "f = open('crd.json')\n",
    " \n",
    "# returns JSON object as\n",
    "# a dictionary\n",
    "data = json.load(f)"
   ]
  },
  {
   "cell_type": "code",
   "execution_count": null,
   "id": "a414754c-6bf8-4caa-aaba-5ad2c5abad73",
   "metadata": {},
   "outputs": [],
   "source": [
    "data[\"4146\"][\"key_value_pairs\"][\"mpid\"]"
   ]
  },
  {
   "cell_type": "code",
   "execution_count": null,
   "id": "aa8225ac-857d-4645-b81b-ea4a12d8b478",
   "metadata": {},
   "outputs": [],
   "source": [
    "data[\"1\"].keys()"
   ]
  },
  {
   "cell_type": "code",
   "execution_count": null,
   "id": "f6f0a695-3b4a-4ff0-985b-fa957577cc98",
   "metadata": {},
   "outputs": [],
   "source": [
    "data[\"1\"][\"data\"].keys()"
   ]
  },
  {
   "cell_type": "code",
   "execution_count": null,
   "id": "81d798ef-76fb-4695-b31d-944253bc910c",
   "metadata": {},
   "outputs": [],
   "source": [
    "data[\"1\"][\"data\"][\"lattice_angles\"]"
   ]
  },
  {
   "cell_type": "code",
   "execution_count": null,
   "id": "2ba5a259-3ad8-4c1b-aaaf-50526e270bf5",
   "metadata": {},
   "outputs": [],
   "source": [
    "\n",
    "\n",
    "chemical_formula   = data[ID][\"data\"][\"chemical_formula\"]\n",
    "lattice_parameters = data[ID][\"data\"][\"lattice_parameters\"]\n",
    "lattice_angles     = data[ID][\"data\"][\"lattice_angles\"]\n",
    "cell_vectors       = array(data[ID][\"cell\"][\"array\"][\"__ndarray__\"][2]).reshape(3,3)\n",
    "mpid               = data[ID][\"key_value_pairs\"][\"mpid\"]\n",
    "density            = round(data[ID][\"data\"][\"mass\"]/data[ID][\"data\"][\"volume\"]*10**30*1.6726e-27,2)\n",
    "\n",
    "print(\"The chemical formula of this material is: \", chemical_formula)\n",
    "print(\"The lattice parameters of this material are, in the order (a,b,c) [A]: \", lattice_parameters)\n",
    "print(\"The lattice angles of this material are, in the order (α,β,γ): \", lattice_angles)\n",
    "print(\"The cell vectors of this material are, in matrix notation: \")\n",
    "print(cell_vectors)\n",
    "print(r\"The density of this material in [kg/m^3]: \", density)\n",
    "print(\"For more properties of the material you can consult it in the materials project webpage with the following ID: \", mpid)\n"
   ]
  },
  {
   "cell_type": "code",
   "execution_count": null,
   "id": "28dc3957-8562-4fd2-abe7-8b70ca17fb7c",
   "metadata": {},
   "outputs": [],
   "source": [
    "cell_vectors = array(data[\"1\"][\"cell\"][\"array\"][\"__ndarray__\"][2]).reshape(3,3)\n",
    "cell_vectors\n",
    "mpid         = data[\"1\"][\"key_value_pairs\"][\"mpid\"]\n"
   ]
  },
  {
   "cell_type": "code",
   "execution_count": null,
   "id": "e9ff4a4a-cc86-4d5e-8e3d-dc25c771779e",
   "metadata": {},
   "outputs": [],
   "source": [
    "data[\"4146\"][\"data\"][\"born\"]"
   ]
  },
  {
   "cell_type": "code",
   "execution_count": null,
   "id": "8e276a76-880a-4475-a1c6-2a4465a8bb74",
   "metadata": {},
   "outputs": [],
   "source": [
    "print(data[\"4146\"][\"data\"][\"IRactive\"]['__ndarray__'][2])\n",
    "print(data[\"4146\"][\"data\"][\"Ramanactive\"]['__ndarray__'][2])\n",
    "print(((data[\"4146\"][\"key_value_pairs\"][\"frequencies_cm\"])))\n",
    "print(len(data[\"4146\"][\"data\"][\"eigenvec\"][0]))"
   ]
  },
  {
   "cell_type": "code",
   "execution_count": null,
   "id": "4fe87923-5ba0-49c3-b165-d36d7dbc889c",
   "metadata": {},
   "outputs": [],
   "source": [
    "ID=\"4146\"\n",
    "print(len(data[ID][\"data\"][\"born\"]))\n",
    "print(len(data[ID][\"data\"][\"eigenvec\"]))\n",
    "print(len(data[ID][\"numbers\"]['__ndarray__'][2]))\n",
    "print((data[ID][\"numbers\"]['__ndarray__'][2]))\n",
    "\n",
    "print(data[ID][\"data\"][\"born\"])\n",
    "print((data[ID][\"data\"][\"eigenvec\"][0]))\n",
    "\n"
   ]
  },
  {
   "cell_type": "code",
   "execution_count": null,
   "id": "2ae99db1-36b9-4816-8993-0c9d3c1dd6b3",
   "metadata": {},
   "outputs": [],
   "source": [
    "data[\"4146\"][\"numbers\"]['__ndarray__'][2]"
   ]
  },
  {
   "cell_type": "code",
   "execution_count": null,
   "id": "68b4b86a-9571-4611-a008-3478868d31b8",
   "metadata": {},
   "outputs": [],
   "source": []
  },
  {
   "cell_type": "code",
   "execution_count": null,
   "id": "990605b3-5303-4e3a-97bd-1496a84c43f4",
   "metadata": {},
   "outputs": [],
   "source": [
    "data[\"4146\"][\"positions\"][\"__ndarray__\"][2]"
   ]
  },
  {
   "cell_type": "code",
   "execution_count": null,
   "id": "95397af4-31c3-4b23-b0cb-b39593c6d1ec",
   "metadata": {},
   "outputs": [],
   "source": [
    "eq_pos = reshape(data[\"4146\"][\"positions\"][\"__ndarray__\"][2],\\\n",
    "                 (data[\"4146\"][\"positions\"][\"__ndarray__\"][0][0],\\\n",
    "                  data[\"4146\"][\"positions\"][\"__ndarray__\"][0][1]))\n",
    "eq_pos[0][0]\n"
   ]
  },
  {
   "cell_type": "code",
   "execution_count": null,
   "id": "49ee0257-5807-4042-8107-439bedc911aa",
   "metadata": {},
   "outputs": [],
   "source": [
    "data[\"4146\"][\"positions\"][\"__ndarray__\"][0][0]"
   ]
  },
  {
   "cell_type": "code",
   "execution_count": null,
   "id": "ee71d91f-5b52-4f60-b9ab-504c1224cc6f",
   "metadata": {},
   "outputs": [],
   "source": [
    "xyz = '''12\n",
    "* (null), Energy   -1000.0000000\n",
    "Ti    8.44346146e+00       0.00000000e+00       4.47994206e+00        0.3644459717394135         5.973428763633715e-05        0.13044106010002338\n",
    "Ti    -1.22098741e-01      0.00000000e+00       4.43473766e+00        0.36444596702979787        5.973428763589211e-05        0.1304411344755619\n",
    "Ti    1.83503573e+00      -2.22044605e-16       1.77994600e+00        0.36444597173941456        5.9734287635064e-05          0.1304410601000229\n",
    "Ti    1.04005959e+01       0.00000000e+00       1.82515040e+00        0.36444596702979853        5.9734287634556656e-05       0.13044113447556266\n",
    "O     4.53203947e-03       2.08166817e-16       2.31518849e+00        0.21070125145747576        3.4534838727218664e-05       0.07541266128956095\n",
    "O     6.43306226e+00       0.00000000e+00       4.41253375e+00        0.21070108110973979        3.453483872759117e-05        0.07541290373989451\n",
    "O     1.62407700e+00       2.22044605e-16       2.18768765e-02        0.2107014462466366         3.453483872736387e-05        0.07541313635197812\n",
    "O     1.02739652e+01       0.00000000e+00       3.94469957e+00        0.21070125145747542        3.453483872757558e-05        0.0754126612895609\n",
    "O     8.30906545e+00       0.00000000e+00       2.18423795e+00        0.21070093688908031        3.453483872721332e-05        0.07541376066561453\n",
    "O     8.65442019e+00       0.00000000e+00       6.23801118e+00        0.21070144624663606        3.453483872743842e-05        0.0754131363519781\n",
    "O     1.96943174e+00       0.00000000e+00       4.07565011e+00        0.21070093688908015        3.453483872753387e-05        0.07541376066561405\n",
    "O     3.84543493e+00       0.00000000e+00       1.84735431e+00        0.2107010811097403         3.4534838727183766e-05       0.07541290373989427\n",
    "'''"
   ]
  },
  {
   "cell_type": "code",
   "execution_count": null,
   "id": "ded893ee-0a92-4dda-8b1a-09c90eca32a0",
   "metadata": {},
   "outputs": [],
   "source": [
    "view = py3Dmol.view(width=300, height=300)\n",
    "view.addModel(xyz, \"xyz\", {'vibrate': {'frames':10,'amplitude':1}})\n",
    "view.vibrate(10,1.,True,{\"radius\": 0.15,\n",
    "                  \"radiusRadio\":0.8,\n",
    "                  \"mid\":30, \"color\":\"#8db600\"})\n",
    "view.setStyle({'sphere':{'scale':0.30},'stick':{'scale':0.15}})\n",
    "view.setBackgroundColor('0xeeeeee')\n",
    "view.animate({'loop': 'backAndForth'})\n",
    "view.zoomTo()\n"
   ]
  },
  {
   "cell_type": "code",
   "execution_count": null,
   "id": "ab57f8ca-637b-4845-bdbe-a5e50d21d450",
   "metadata": {},
   "outputs": [],
   "source": []
  },
  {
   "cell_type": "code",
   "execution_count": null,
   "id": "2ca61544-f36d-41f6-9288-46ba23c7515e",
   "metadata": {},
   "outputs": [],
   "source": [
    "len(data[\"4146\"][\"data\"][\"eigenvec\"])"
   ]
  },
  {
   "cell_type": "code",
   "execution_count": null,
   "id": "147a661c-17cc-41b5-8564-fbbb2404b650",
   "metadata": {},
   "outputs": [],
   "source": [
    "data[\"1\"][\"data\"].keys()"
   ]
  },
  {
   "cell_type": "code",
   "execution_count": null,
   "id": "0f32b3dd-b94c-4712-9756-aa4a925aa145",
   "metadata": {},
   "outputs": [],
   "source": [
    "print(len(data[\"1\"][\"data\"][\"raman_tensors\"]))\n",
    "print(shape(data[\"4146\"][\"data\"][\"eigenvec\"]))\n",
    "print(len(data[\"1\"][\"data\"][\"born\"]))\n"
   ]
  },
  {
   "cell_type": "code",
   "execution_count": null,
   "id": "b8f2e89b-234e-454d-8de7-6d79874a269c",
   "metadata": {},
   "outputs": [],
   "source": [
    "data[\"1\"][\"data\"][\"born\"]"
   ]
  },
  {
   "cell_type": "code",
   "execution_count": null,
   "id": "bd4d8ea8-e7dc-4a5f-9817-9bc38ba430a7",
   "metadata": {},
   "outputs": [],
   "source": [
    "data[\"4146\"][\"data\"][\"eigenvec\"]"
   ]
  },
  {
   "cell_type": "code",
   "execution_count": null,
   "id": "0cf22aed-8c4a-4ed5-9b8d-4febe8456510",
   "metadata": {},
   "outputs": [],
   "source": [
    "\n"
   ]
  },
  {
   "cell_type": "code",
   "execution_count": null,
   "id": "605ba1b0-0282-4023-a5de-245ddbe2dce8",
   "metadata": {},
   "outputs": [],
   "source": [
    "\n",
    "len(ints_ram_t)"
   ]
  },
  {
   "cell_type": "code",
   "execution_count": null,
   "id": "4cc1eb99-c8f5-42d4-98e8-f32a6c481000",
   "metadata": {},
   "outputs": [],
   "source": [
    "formulas =[]\n",
    "compounds=[]\n",
    "for i in range(1,5100):\n",
    "    compounds.append((data[\"{0}\".format(i)][\"data\"][\"chemical_formula\"],i))\n",
    "    formulas.append(data[\"{0}\".format(i)][\"data\"][\"chemical_formula\"])"
   ]
  },
  {
   "cell_type": "code",
   "execution_count": null,
   "id": "48bc5dcc-6f0e-413e-a1cf-07dde9132bc6",
   "metadata": {},
   "outputs": [],
   "source": [
    "compounds.sort()\n",
    "compounds\n",
    "\n",
    "from dash import Dash, dcc, html, Input, Output,callback\n",
    "\n",
    "app = Dash(__name__)\n",
    "app.layout = html.Div([\n",
    "    dcc.Dropdown(formulas, formulas[0], id='demo-dropdown'),\n",
    "    html.Div(id='dd-output-container')\n",
    "])\n",
    "\n",
    "\n",
    "@callback(\n",
    "    Output('dd-output-container', 'children'),\n",
    "    Input('demo-dropdown', 'value')\n",
    ")\n",
    "def update_output(value):\n",
    "    return f'You have selected {value}'\n",
    "\n",
    "\n",
    "if __name__ == '__main__':\n",
    "    app.run(debug=True)\n"
   ]
  },
  {
   "cell_type": "code",
   "execution_count": null,
   "id": "c69a6bd1-0561-447e-84a7-d427ffbcadaa",
   "metadata": {},
   "outputs": [],
   "source": [
    "for i in compounds:\n",
    "    if i[0]==\"Ti2O4\":\n",
    "        print(i)"
   ]
  },
  {
   "cell_type": "code",
   "execution_count": null,
   "id": "da97a0a6-107e-4a13-9a6f-f3c9a0dacf61",
   "metadata": {},
   "outputs": [],
   "source": [
    "freq = data[\"4146\"][\"key_value_pairs\"][\"frequencies_cm\"]\n",
    "freq= freq.replace(\"[\", \" \")\n",
    "freq=freq.replace(\"]\", \" \")\n",
    "freq=freq.replace(\"\\n\", \" \")\n",
    "freq=freq.split()\n",
    "freqs_db = [float(i) for i  in freq ] \n",
    "ints_ram_t = []\n",
    "for i in data[\"4146\"][\"data\"][\"raman_tensors\"]:\n",
    "    ints_ram_t.append(intensity_raman(i))\n",
    "    \n",
    "int_db = data[\"4146\"][\"data\"][\"Ramanactive\"][\"__ndarray__\"][2]\n",
    "\n",
    "# freq_gn, int_gn, int_n = Gaus_norm(freqs_db,int_db,10)\n",
    "# plot(freq_gn, int_n, label= \"DFT-DB-1\")\n",
    "\n",
    "freq_gn, int_gn, int_n = Gaus_norm(freqs_db,ints_ram_t,10)\n",
    "plot(freq_gn, int_gn, label= \"DFT-DB\")\n",
    "\n",
    "\n",
    "df2=RRUFF_text(\"anastase_532_exp.txt\")._read_file()\n",
    "# plot(df2[\"wavenumbers\"], df2[\"intensities_normalized\"], label=\"Exp Anatase 532 nm\")\n",
    "\n",
    "\n",
    "df3=RRUFF_text(\"rutile_exp_dep.txt\")._read_file()\n",
    "plot(df3[\"wavenumbers\"], df3[\"intensities_normalized\"], label=\"Exp Rutile 532 nm\")\n",
    "\n",
    "\n",
    "freq_dft = [1.129780207231549269e+02 , 1.129780207231552680e+02 ,1.749879864729470853e+02 ,1.749879864729474264e+02 ,3.611532269867757350e+02 ,4.793102600546089320e+02 ,4.957302896450344178e+02 ,6.001592985713667758e+02 ,6.001592985713667758e+02] \n",
    "int_dft = [1.000000000000000000e+00,9.999999999999938938e-01,2.939221091892205324e-03,2.939221091892158921e-03,1.494269659327405464e-01,1.890540997545240437e-02,1.019312927046264333e-01,1.445200115409593922e-01,1.445200115409594477e-01]\n",
    "freq_dft, int_dft, a = Gaus_norm(freq_dft,int_dft,20)\n",
    "\n",
    "# plot(freq_dft, int_dft, label= \"DFT-Lorenzo\")\n",
    "\n",
    "wavenum , int_norm, b = Gaus_norm(result_frequencies_TIO2, result_intensities_TIO2,20)\n",
    "plot(wavenumb,int_norm, label=\"Phonon dis\")\n",
    "# plot(df[\"Frequency\"],df[\"Norm\"], label=\"Exp Anatase\")\n",
    "xlabel(r\"$Frequency[cm^{-1}]$\")\n",
    "ylabel(\"Intensity\")\n",
    "\n",
    "# plot(freq_db_all, new_int_all, label=r\"$Combined - \\Gamma point$\")\n",
    "legend()\n",
    "\n",
    "ylim(-0.01,1)\n",
    "xlim(-10,1000)\n"
   ]
  },
  {
   "cell_type": "code",
   "execution_count": null,
   "id": "fbb10ed4-7e5a-42f5-8a9f-63c67954ac5e",
   "metadata": {},
   "outputs": [],
   "source": [
    "freqs_db_r =[round(i,1) for i in freqs_db]\n",
    "print(freqs_db_r,int_db)"
   ]
  },
  {
   "cell_type": "code",
   "execution_count": null,
   "id": "77f1752d-85b7-491d-971f-c55f9a37bb0a",
   "metadata": {},
   "outputs": [],
   "source": [
    "import json\n",
    " \n",
    "# Opening JSON file\n",
    "f = open('crd.json')\n",
    " \n",
    "# returns JSON object as\n",
    "# a dictionary\n",
    "data = json.load(f)\n",
    "ID=\"52\"\n"
   ]
  },
  {
   "cell_type": "code",
   "execution_count": 1,
   "id": "e7eb75bc-c42a-4aeb-8813-5f8a6e286789",
   "metadata": {},
   "outputs": [],
   "source": [
    "from quetzalcoatl_1 import Animator_data, spectra_data, solids_spectra"
   ]
  },
  {
   "cell_type": "code",
   "execution_count": 2,
   "id": "00968346-d821-4f97-ad95-68e831583f2a",
   "metadata": {},
   "outputs": [],
   "source": [
    "ID =\"78\"\n",
    "Animator_data(ID)\n"
   ]
  },
  {
   "cell_type": "code",
   "execution_count": 4,
   "id": "92a9fa53-f7b4-4cb9-971c-cd9bce0dd2d5",
   "metadata": {},
   "outputs": [
    {
     "name": "stdout",
     "output_type": "stream",
     "text": [
      "The chemical formula of this material is:  Ba8Cu4I4O8\n",
      "The lattice parameters of this material are, in the order (a,b,c) [A]:  [10.95891831  4.38039471 13.93294818]\n",
      "The lattice angles of this material are, in the order (α,β,γ):  [90.         91.18449953 90.        ]\n",
      "The cell vectors of this material are, in matrix notation: \n",
      "[[10.95890004  0.          0.02001305]\n",
      " [ 0.          4.38039471  0.        ]\n",
      " [-0.3134594   0.         13.92942167]]\n",
      "The density of this material in [kg/m^3]:  4973.55\n",
      "For more properties of the material you can consult it in the materials project webpage with the following ID:  mp-561179\n"
     ]
    },
    {
     "data": {
      "application/vnd.jupyter.widget-view+json": {
       "model_id": "601bd6ddd126441194861879f16ecfcd",
       "version_major": 2,
       "version_minor": 0
      },
      "text/plain": [
       "interactive(children=(Dropdown(description='Normal mode:', options=((0.0, 0), (0.0, 1), (0.0, 2), (23.37, 3), …"
      ]
     },
     "metadata": {},
     "output_type": "display_data"
    }
   ],
   "source": [
    "\n",
    "sigma_IR=0.1\n",
    "sigma_Raman=0.1\n",
    "\n",
    "freq_gn_ir, int_gn_ir, int_n_ir , freq_gn_raman, int_gn_raman, int_n_raman= spectra_data(ID, sigma_IR, sigma_Raman)\n",
    "solids_spectra(\"readme_solids.txt\", freq_gn_ir, int_gn_ir, freq_gn_raman, int_gn_raman)\n"
   ]
  },
  {
   "cell_type": "code",
   "execution_count": null,
   "id": "8713c0ae-53af-44a2-b43b-3ab16b190db5",
   "metadata": {},
   "outputs": [],
   "source": []
  },
  {
   "cell_type": "code",
   "execution_count": null,
   "id": "e9012072-d07b-45ed-84ea-9e1a31199c52",
   "metadata": {},
   "outputs": [],
   "source": []
  },
  {
   "cell_type": "code",
   "execution_count": null,
   "id": "4675959d-1531-44fc-84d1-8a1306d984a6",
   "metadata": {},
   "outputs": [],
   "source": []
  },
  {
   "cell_type": "code",
   "execution_count": null,
   "id": "dbd41c18-49ef-4340-bdba-d74c7fb7f0aa",
   "metadata": {},
   "outputs": [],
   "source": []
  },
  {
   "cell_type": "code",
   "execution_count": null,
   "id": "29bda94a-a7b1-4bb9-bfc0-b27982d16183",
   "metadata": {},
   "outputs": [],
   "source": []
  },
  {
   "cell_type": "code",
   "execution_count": null,
   "id": "198be239-80b1-4388-8811-7cf689d8a79d",
   "metadata": {},
   "outputs": [],
   "source": []
  }
 ],
 "metadata": {
  "kernelspec": {
   "display_name": "Python 3 (ipykernel)",
   "language": "python",
   "name": "python3"
  },
  "language_info": {
   "codemirror_mode": {
    "name": "ipython",
    "version": 3
   },
   "file_extension": ".py",
   "mimetype": "text/x-python",
   "name": "python",
   "nbconvert_exporter": "python",
   "pygments_lexer": "ipython3",
   "version": "3.8.17"
  }
 },
 "nbformat": 4,
 "nbformat_minor": 5
}
