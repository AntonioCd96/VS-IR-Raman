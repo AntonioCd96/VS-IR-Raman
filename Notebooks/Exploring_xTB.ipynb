{
 "cells": [
  {
   "cell_type": "code",
   "execution_count": 4,
   "id": "5b879b94-76a2-4f58-9ca6-07750fc9191e",
   "metadata": {},
   "outputs": [],
   "source": [
    "import subprocess\n",
    "import requests\n",
    "import json\n",
    "\n",
    "\n",
    "def xTB_data(smiles,method):\n",
    "    smiles_xTB = smiles.replace(\"#\",\"%23\")\n",
    "    r          = requests.get('https://ir.cheminfo.org/v1/ir?smiles={0}&method={1}'.format(smiles_xTB, method))\n",
    "    data_bytes = r.content\n",
    "    data_dic   = json.loads(data_bytes.decode('utf-8'))\n",
    "    return data_dic"
   ]
  },
  {
   "cell_type": "code",
   "execution_count": 5,
   "id": "6385af68-d483-4ac4-93b5-6b4e3dfb8050",
   "metadata": {},
   "outputs": [],
   "source": [
    "\n",
    "smiles = \"O=C=O\"\n",
    "method = \"GFN2xTB\"\n",
    "\n",
    "data = xTB_data(smiles,method)"
   ]
  },
  {
   "cell_type": "code",
   "execution_count": 6,
   "id": "946f0c91-73be-4e80-9acb-a8d338b5227a",
   "metadata": {},
   "outputs": [
    {
     "data": {
      "text/plain": [
       "dict_keys(['wavenumbers', 'intensities', 'ramanIntensities', 'zeroPointEnergy', 'modes', 'mostRelevantModesOfAtoms', 'mostRelevantModesOfBonds', 'hasImaginaryFrequency', 'isLinear', 'momentsOfInertia', 'hasLargeImaginaryFrequency'])"
      ]
     },
     "execution_count": 6,
     "metadata": {},
     "output_type": "execute_result"
    }
   ],
   "source": [
    "data.keys()"
   ]
  },
  {
   "cell_type": "code",
   "execution_count": 7,
   "id": "8cedc60e-27af-4858-a233-19be3f5365c3",
   "metadata": {},
   "outputs": [
    {
     "name": "stdout",
     "output_type": "stream",
     "text": [
      "Collecting xtb\n",
      "  Using cached xtb-22.1.tar.gz (62 kB)\n",
      "  Installing build dependencies: started\n",
      "  Installing build dependencies: finished with status 'done'\n",
      "  Getting requirements to build wheel: started\n",
      "  Getting requirements to build wheel: finished with status 'done'\n",
      "  Preparing metadata (pyproject.toml): started\n",
      "  Preparing metadata (pyproject.toml): finished with status 'error'\n",
      "Note: you may need to restart the kernel to use updated packages.\n"
     ]
    },
    {
     "name": "stderr",
     "output_type": "stream",
     "text": [
      "WARNING: Ignoring invalid distribution -atplotlib (c:\\users\\roste\\anaconda3\\lib\\site-packages)\n",
      "  error: subprocess-exited-with-error\n",
      "  \n",
      "  Preparing metadata (pyproject.toml) did not run successfully.\n",
      "  exit code: 1\n",
      "  \n",
      "  [21 lines of output]\n",
      "  + meson setup C:\\Users\\roste\\AppData\\Local\\Temp\\pip-install-w0o4jsb2\\xtb_57e20e0a3db848ab8c0def6d56d437cf C:\\Users\\roste\\AppData\\Local\\Temp\\pip-install-w0o4jsb2\\xtb_57e20e0a3db848ab8c0def6d56d437cf\\.mesonpy-3juatky3 -Dbuildtype=release -Db_ndebug=if-release -Db_vscrt=md --native-file=C:\\Users\\roste\\AppData\\Local\\Temp\\pip-install-w0o4jsb2\\xtb_57e20e0a3db848ab8c0def6d56d437cf\\.mesonpy-3juatky3\\meson-python-native-file.ini\n",
      "  The Meson build system\n",
      "  Version: 1.2.2\n",
      "  Source dir: C:\\Users\\roste\\AppData\\Local\\Temp\\pip-install-w0o4jsb2\\xtb_57e20e0a3db848ab8c0def6d56d437cf\n",
      "  Build dir: C:\\Users\\roste\\AppData\\Local\\Temp\\pip-install-w0o4jsb2\\xtb_57e20e0a3db848ab8c0def6d56d437cf\\.mesonpy-3juatky3\n",
      "  Build type: native build\n",
      "  Project name: xtb-python\n",
      "  Project version: undefined\n",
      "  WARNING: Failed to activate VS environment: Could not find C:\\Program Files (x86)\\Microsoft Visual Studio\\Installer\\vswhere.exe\n",
      "  \n",
      "  ..\\meson.build:18:0: ERROR: Unknown compiler(s): [['icl'], ['cl'], ['cc'], ['gcc'], ['clang'], ['clang-cl'], ['pgcc']]\n",
      "  The following exception(s) were encountered:\n",
      "  Running `icl \"\"` gave \"[WinError 2] El sistema no puede encontrar el archivo especificado\"\n",
      "  Running `cl /?` gave \"[WinError 2] El sistema no puede encontrar el archivo especificado\"\n",
      "  Running `cc --version` gave \"[WinError 2] El sistema no puede encontrar el archivo especificado\"\n",
      "  Running `gcc --version` gave \"[WinError 2] El sistema no puede encontrar el archivo especificado\"\n",
      "  Running `clang --version` gave \"[WinError 2] El sistema no puede encontrar el archivo especificado\"\n",
      "  Running `clang-cl /?` gave \"[WinError 2] El sistema no puede encontrar el archivo especificado\"\n",
      "  Running `pgcc --version` gave \"[WinError 2] El sistema no puede encontrar el archivo especificado\"\n",
      "  \n",
      "  A full log can be found at C:\\Users\\roste\\AppData\\Local\\Temp\\pip-install-w0o4jsb2\\xtb_57e20e0a3db848ab8c0def6d56d437cf\\.mesonpy-3juatky3\\meson-logs\\meson-log.txt\n",
      "  [end of output]\n",
      "  \n",
      "  note: This error originates from a subprocess, and is likely not a problem with pip.\n",
      "error: metadata-generation-failed\n",
      "\n",
      "Encountered error while generating package metadata.\n",
      "\n",
      "See above for output.\n",
      "\n",
      "note: This is an issue with the package mentioned above, not pip.\n",
      "hint: See above for details.\n"
     ]
    }
   ],
   "source": [
    "pip install xtb"
   ]
  },
  {
   "cell_type": "code",
   "execution_count": null,
   "id": "23efd2b8-a905-4982-ae35-382d0914c14e",
   "metadata": {},
   "outputs": [],
   "source": []
  }
 ],
 "metadata": {
  "kernelspec": {
   "display_name": "Python 3 (ipykernel)",
   "language": "python",
   "name": "python3"
  },
  "language_info": {
   "codemirror_mode": {
    "name": "ipython",
    "version": 3
   },
   "file_extension": ".py",
   "mimetype": "text/x-python",
   "name": "python",
   "nbconvert_exporter": "python",
   "pygments_lexer": "ipython3",
   "version": "3.8.17"
  }
 },
 "nbformat": 4,
 "nbformat_minor": 5
}
